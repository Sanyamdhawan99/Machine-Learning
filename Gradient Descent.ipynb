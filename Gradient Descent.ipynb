{
 "cells": [
  {
   "cell_type": "code",
   "execution_count": 3,
   "metadata": {},
   "outputs": [],
   "source": [
    "import numpy as np"
   ]
  },
  {
   "cell_type": "code",
   "execution_count": 36,
   "metadata": {},
   "outputs": [],
   "source": [
    "# finding steps using learning_rate\n",
    "def step_gradient(points, learning_rate, m):  # pass m array with m[n+1] = c\n",
    "    M = len(points)\n",
    "    N = 13\n",
    "    m_slope = np.zeros(N)\n",
    "    #c_temp = 0\n",
    "    #m_slope = 0\n",
    "    c_slope = 0\n",
    "    #slope_slope = 0;\n",
    "    for i in range(M):\n",
    "        x = points[i, 0:N]\n",
    "        y = points[i, N]\n",
    "        #temp = 0\n",
    "        # loop for every feature\n",
    "        for j in range(N):\n",
    "            m_slope[j] += (-2 / M) * ((y - m[j] * x[j] - m[N-1]) * x[j])  # use a for loop for each entry in m array\n",
    "            c_slope += (-2 / M) * (y - m[j] * x[j] - m[N-1]) \n",
    "            #m_temp[j] += (m[j] * x[j] - m[N-1]) * x[j]\n",
    "            #c_temp += (m[j] * x[j] - m[N-1])\n",
    "            #temp += (y * x[j])\n",
    "        #m_slope += (-2 / M) * (temp - m_temp.sum())\n",
    "        #c_slope += (-2 / M) * (y - c_temp)\n",
    "    #print(\"M_slope: \", m_slope)\n",
    "    #print(\"C_slope: \", c_slope)\n",
    "    #print(\"m: \",m)\n",
    "    new_m = np.zeros(N+1)\n",
    "    for i in range(N):\n",
    "        new_m[i] += (m[i] - m_slope[i] * learning_rate)\n",
    "    new_m[N] = m[N] - learning_rate * c_slope\n",
    "    #print(\"new matrix: \",new_m)\n",
    "    #return new_m, m_slope, c_slope\n",
    "    return new_m"
   ]
  },
  {
   "cell_type": "code",
   "execution_count": 26,
   "metadata": {},
   "outputs": [],
   "source": [
    "# gradient function --> generic\n",
    "def gd(points, learning_rate, num_iterations):\n",
    "    m = np.zeros(14)\n",
    "    #print(\"m.shape: \", m.shape)\n",
    "    for i in range(num_iterations):\n",
    "        m = step_gradient(points, learning_rate, m)\n",
    "        #print(\"Cost: \", cost(points, m))\n",
    "    return m"
   ]
  },
  {
   "cell_type": "code",
   "execution_count": 34,
   "metadata": {},
   "outputs": [],
   "source": [
    "def run():    \n",
    "    data = np.genfromtxt(\"Boston_train.csv\", delimiter = \",\")\n",
    "    learning_rate = 0.001\n",
    "    num_iterations = 100\n",
    "    m = gd(data, learning_rate, num_iterations)\n",
    "    test_data = np.genfromtxt(\"Boston_test.csv\", delimiter = \",\")\n",
    "    #X = test_data[:, 0:13]\n",
    "    X = data[:, 0:13]\n",
    "    ones = np.ones([X.shape[0],1])\n",
    "    #X = np.concatenate((ones,X),axis=1)\n",
    "    Y_predicted = np.zeros(len(data))\n",
    "    for i in range(len(data)):\n",
    "        for j in range(14):\n",
    "            Y_predicted[i] += (X[i, j] * m[j]);\n",
    "    np.savetxt(\"Y_Boston_predicted.csv\", Y_predicted, fmt = \"%0.5f\", delimiter=\",\")\n",
    "    print(\"done\")"
   ]
  },
  {
   "cell_type": "code",
   "execution_count": 35,
   "metadata": {
    "scrolled": false
   },
   "outputs": [
    {
     "name": "stdout",
     "output_type": "stream",
     "text": [
      "done\n"
     ]
    }
   ],
   "source": [
    "run()"
   ]
  },
  {
   "cell_type": "code",
   "execution_count": null,
   "metadata": {},
   "outputs": [],
   "source": []
  },
  {
   "cell_type": "code",
   "execution_count": 254,
   "metadata": {},
   "outputs": [
    {
     "name": "stdout",
     "output_type": "stream",
     "text": [
      "-0.40784991\n",
      "-0.40737368\n",
      "0.1251786\n",
      "0.02830359\n",
      "-0.41240845\n",
      "-0.41693438\n",
      "-0.00292034\n",
      "-0.22555854\n",
      "-0.39556108\n",
      "-0.41377892\n"
     ]
    }
   ],
   "source": [
    "data = np.genfromtxt(\"Boston_train.csv\", delimiter = \",\")\n",
    "x = data[:, 0:13]\n",
    "m = np.zeros(13)\n",
    "for i in range(10):\n",
    "    print(x[i, 0])"
   ]
  },
  {
   "cell_type": "code",
   "execution_count": null,
   "metadata": {},
   "outputs": [],
   "source": []
  }
 ],
 "metadata": {
  "kernelspec": {
   "display_name": "Python 3",
   "language": "python",
   "name": "python3"
  },
  "language_info": {
   "codemirror_mode": {
    "name": "ipython",
    "version": 3
   },
   "file_extension": ".py",
   "mimetype": "text/x-python",
   "name": "python",
   "nbconvert_exporter": "python",
   "pygments_lexer": "ipython3",
   "version": "3.6.5"
  }
 },
 "nbformat": 4,
 "nbformat_minor": 2
}
