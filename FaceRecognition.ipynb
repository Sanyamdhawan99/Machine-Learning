{
 "cells": [
  {
   "cell_type": "code",
   "execution_count": 7,
   "metadata": {},
   "outputs": [],
   "source": [
    "from PIL import Image, ImageDraw\n",
    "import face_recognition"
   ]
  },
  {
   "cell_type": "code",
   "execution_count": 15,
   "metadata": {},
   "outputs": [
    {
     "data": {
      "text/plain": [
       "[(80, 139, 187, 32)]"
      ]
     },
     "execution_count": 15,
     "metadata": {},
     "output_type": "execute_result"
    }
   ],
   "source": [
    "# find face locations\n",
    "image = face_recognition.load_image_file(\"E://Minor Project//Final Dataset//img_align_celeba//001215.jpg\")\n",
    "face_locations = face_recognition.face_locations(image)\n",
    "face_locations"
   ]
  },
  {
   "cell_type": "code",
   "execution_count": 16,
   "metadata": {},
   "outputs": [
    {
     "name": "stdout",
     "output_type": "stream",
     "text": [
      "[{'chin': [(40, 106), (42, 119), (43, 132), (46, 145), (51, 156), (59, 166), (68, 175), (78, 184), (90, 186), (101, 184), (111, 175), (118, 165), (125, 155), (128, 144), (130, 133), (131, 121), (131, 109)], 'left_eyebrow': [(50, 106), (56, 101), (65, 99), (74, 100), (83, 103)], 'right_eyebrow': [(95, 103), (103, 100), (111, 99), (119, 101), (125, 106)], 'nose_bridge': [(89, 112), (89, 121), (89, 129), (89, 137)], 'nose_tip': [(80, 142), (84, 143), (89, 145), (94, 143), (98, 142)], 'left_eye': [(61, 112), (66, 110), (72, 110), (77, 113), (72, 115), (66, 115)], 'right_eye': [(100, 114), (105, 110), (111, 110), (115, 113), (111, 115), (105, 115)], 'top_lip': [(70, 153), (77, 152), (84, 152), (89, 154), (94, 153), (101, 152), (108, 153), (105, 154), (95, 155), (89, 156), (84, 155), (73, 153)], 'bottom_lip': [(108, 153), (101, 161), (94, 164), (89, 164), (83, 163), (77, 159), (70, 153), (73, 153), (84, 157), (89, 158), (94, 158), (105, 154)]}]\n",
      "9\n"
     ]
    }
   ],
   "source": [
    "# face landmarks --> set\n",
    "face_landmarks_list = face_recognition.face_landmarks(image)\n",
    "print(face_landmarks_list)\n",
    "print(len(face_landmarks_list[0]))"
   ]
  },
  {
   "cell_type": "code",
   "execution_count": 17,
   "metadata": {},
   "outputs": [],
   "source": [
    "# manipulating face landmarks to display the face\n",
    "for face_landmarks in face_landmarks_list:\n",
    "    pil_image = Image.fromarray(image)\n",
    "    d = ImageDraw.Draw(pil_image, 'RGBA')\n",
    "\n",
    "    # eyebrows\n",
    "    d.polygon(face_landmarks['left_eyebrow'], fill=(0, 0, 0, 500))\n",
    "    d.polygon(face_landmarks['right_eyebrow'], fill=(0, 0, 0, 500))\n",
    "    d.line(face_landmarks['left_eyebrow'], fill=(0, 0, 0, 500), width=5)\n",
    "    d.line(face_landmarks['right_eyebrow'],fill=(0, 0, 0, 500), width=5)\n",
    "\n",
    "    # lips\n",
    "    d.polygon(face_landmarks['top_lip'], fill=(0, 0, 0, 500))\n",
    "    d.polygon(face_landmarks['bottom_lip'], fill=(0, 0, 0, 500))\n",
    "    d.line(face_landmarks['top_lip'], fill=(0, 0, 0, 500), width=5)\n",
    "    d.line(face_landmarks['bottom_lip'], fill=(0, 0, 0, 500), width=5)\n",
    "\n",
    "    # eyes\n",
    "    d.polygon(face_landmarks['left_eye'], fill=(250, 0, 0, 1000))\n",
    "    d.polygon(face_landmarks['right_eye'], fill=(250, 0, 0, 1000))\n",
    "\n",
    "    # eyeliner\n",
    "    d.line(face_landmarks['left_eye'] + [face_landmarks['left_eye'][0]], fill=(0, 0, 0, 500), width=5)\n",
    "    d.line(face_landmarks['right_eye'] + [face_landmarks['right_eye'][0]], fill=(0, 0, 0, 500), width=5)\n",
    "    \n",
    "    pil_image.show()"
   ]
  },
  {
   "cell_type": "code",
   "execution_count": 19,
   "metadata": {},
   "outputs": [
    {
     "data": {
      "text/plain": [
       "[False]"
      ]
     },
     "execution_count": 19,
     "metadata": {},
     "output_type": "execute_result"
    }
   ],
   "source": [
    "# matches 2 images --> true if they are same, else false\n",
    "# finding images of same persons\n",
    "known_image = face_recognition.load_image_file(\"1.jpg\")\n",
    "unknown_image = face_recognition.load_image_file(\"friends.jpg\")\n",
    "\n",
    "known_encoding = face_recognition.face_encodings(known_image)[0]\n",
    "unknown_encoding = face_recognition.face_encodings(unknown_image)[0]\n",
    "\n",
    "results = face_recognition.compare_faces([known_encoding], unknown_encoding)\n",
    "results"
   ]
  }
 ],
 "metadata": {
  "kernelspec": {
   "display_name": "Python 3",
   "language": "python",
   "name": "python3"
  },
  "language_info": {
   "codemirror_mode": {
    "name": "ipython",
    "version": 3
   },
   "file_extension": ".py",
   "mimetype": "text/x-python",
   "name": "python",
   "nbconvert_exporter": "python",
   "pygments_lexer": "ipython3",
   "version": "3.6.5"
  }
 },
 "nbformat": 4,
 "nbformat_minor": 2
}
