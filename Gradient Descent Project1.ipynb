{
 "cells": [
  {
   "cell_type": "code",
   "execution_count": 2,
   "metadata": {},
   "outputs": [],
   "source": [
    "import numpy as np\n",
    "import matplotlib.pyplot as plt\n",
    "from sklearn import preprocessing"
   ]
  },
  {
   "cell_type": "code",
   "execution_count": 4,
   "metadata": {},
   "outputs": [],
   "source": [
    "# for Coefficient of Determination function\n",
    "def cd(y_predicted, y_test):\n",
    "    u = ((y_test - y_predicted) ** 2).sum()\n",
    "    v = ((y_test - y_test.mean()) ** 2).sum()\n",
    "    return (1 - u/v)"
   ]
  },
  {
   "cell_type": "code",
   "execution_count": 5,
   "metadata": {},
   "outputs": [],
   "source": [
    "# step_gradient function\n",
    "def step_gradient(data, y_train, learning_rate, m):\n",
    "    # break data into x and y\n",
    "    m_slope = np.zeros(14)\n",
    "    #c_slope = 0\n",
    "    M = len(data)\n",
    "    for i in range(M):\n",
    "        x = data[i, 0:14]\n",
    "        y = y_train[i]\n",
    "        ans = 0\n",
    "        # use one more loop to loop over each m value\n",
    "        for j in range(14):\n",
    "            #m_slope[j] += (-2 / M) * (y - m[j] * x[j] - m[size]) * x[j]\n",
    "            #c_slope += (-2 / M) * (y - m[j] * x[j] - m[size]) \n",
    "            ans += x[j] * m[j]\n",
    "        for k in range(14):\n",
    "            m_slope[k] += (-2 / M) * (y - ans) * x[k]\n",
    "    new_m = m - learning_rate * m_slope\n",
    "    return new_m"
   ]
  },
  {
   "cell_type": "code",
   "execution_count": 6,
   "metadata": {},
   "outputs": [],
   "source": [
    "# gradient descent:\n",
    "def gd(data, learning_rate, iterations):\n",
    "    # create the m array including c which means m[size] = c\n",
    "    m = np.zeros(14)\n",
    "    y_train = data[:, 14]\n",
    "    #print(\"Y train: \", y_train)\n",
    "    for i in range(iterations):\n",
    "        m = step_gradient(data, y_train, learning_rate, m)\n",
    "    return m    "
   ]
  },
  {
   "cell_type": "code",
   "execution_count": 7,
   "metadata": {},
   "outputs": [],
   "source": [
    "def run():\n",
    "    #print(X)\n",
    "    train_data = np.genfromtxt(\"Boston_train.csv\", delimiter = \",\")\n",
    "    iterations = 10000000\n",
    "    learning_rate = 0.0001\n",
    "    scaler = preprocessing.StandardScaler()\n",
    "    X = train_data[:, 0:14]\n",
    "    #print(\"X: \", X)\n",
    "    #scaler.fit(X)\n",
    "    #X = scaler.transform(X)\n",
    "    #train_data[:, 0:13] = X\n",
    "    Y = train_data[:, 14]\n",
    "    print(train_data)\n",
    "    print(train_data.shape)\n",
    "    print(X.shape)\n",
    "    print(Y.shape)\n",
    "    M = gd(train_data, learning_rate, iterations)\n",
    "    m = M[0:13]\n",
    "    c = M[13]\n",
    "    print(m)\n",
    "    print(c)\n",
    "    Y_train_predicted = np.zeros(train_data.shape[0])\n",
    "    print(Y_train_predicted.shape)\n",
    "    for i in range(train_data.shape[0]):\n",
    "        temp = 0\n",
    "        x = X[i, 0:14]\n",
    "        for j in range(14):    \n",
    "            temp += (M[j] * x[j])\n",
    "        Y_train_predicted[i] += (temp)      \n",
    "    np.savetxt(\"Y_Boston_train_predicted.csv\", Y_train_predicted, fmt = \"%0.5f\", delimiter=\",\")\n",
    "    a = np.arange(0 , 379*50, 50)\n",
    "    plt.scatter(a, Y, color=\"blue\")\n",
    "    plt.scatter(a, Y_train_predicted, color=\"red\")\n",
    "    plt.show()\n",
    "    # for testing data\n",
    "    test_data = np.genfromtxt(\"Boston_test.csv\", delimiter = \",\")\n",
    "    #test_data = scaler.transform(test_data)\n",
    "    Y_test_predicted = np.zeros(test_data.shape[0])\n",
    "    #Y_train_predicted = M * test_data\n",
    "    print(Y_test_predicted.shape)\n",
    "    for i in range(test_data.shape[0]):\n",
    "        temp = 0\n",
    "        x = test_data[i, 0:14]\n",
    "        for j in range(14):    \n",
    "            temp += (M[j] * x[j])\n",
    "        Y_test_predicted[i] += (temp)\n",
    "    np.savetxt(\"Y_Boston_test_predicted.csv\", Y_test_predicted, fmt = \"%0.1f\", delimiter=\",\")\n",
    "    score_train = cd(Y_train_predicted, Y)\n",
    "    print(score_train)"
   ]
  },
  {
   "cell_type": "code",
   "execution_count": 8,
   "metadata": {},
   "outputs": [
    {
     "name": "stdout",
     "output_type": "stream",
     "text": [
      "[[-0.40784991 -0.48772236 -1.2660231  ... -1.09799011  1.\n",
      "  37.9       ]\n",
      " [-0.40737368 -0.48772236  0.24705682 ... -0.52047412  1.\n",
      "  21.4       ]\n",
      " [ 0.1251786  -0.48772236  1.01599907 ...  0.89107588  1.\n",
      "  12.7       ]\n",
      " ...\n",
      " [-0.40831101 -0.48772236  0.24705682 ... -0.33404299  1.\n",
      "  20.8       ]\n",
      " [-0.41061997 -0.48772236 -1.15221381 ... -0.74475218  1.\n",
      "  22.6       ]\n",
      " [ 0.34290895 -0.48772236  1.01599907 ... -1.35871335  1.\n",
      "  50.        ]]\n",
      "(379, 15)\n",
      "(379, 14)\n",
      "(379,)\n",
      "[-0.93808077  0.74103443  0.01169157  0.78087372 -2.1745575   2.35429653\n",
      "  0.1233381  -2.95232355  2.53296817 -1.7029037  -2.25151962  0.58835429\n",
      " -4.26368155]\n",
      "22.67723326386723\n",
      "(379,)\n"
     ]
    },
    {
     "data": {
      "image/png": "[encoded data removed]",
      "text/plain": [
       "<Figure size 432x288 with 1 Axes>"
      ]
     },
     "metadata": {},
     "output_type": "display_data"
    },
    {
     "name": "stdout",
     "output_type": "stream",
     "text": [
      "(127,)\n",
      "0.7331366627280995\n"
     ]
    }
   ],
   "source": [
    "run()"
   ]
  }
 ],
 "metadata": {
  "kernelspec": {
   "display_name": "Python 3",
   "language": "python",
   "name": "python3"
  },
  "language_info": {
   "codemirror_mode": {
    "name": "ipython",
    "version": 3
   },
   "file_extension": ".py",
   "mimetype": "text/x-python",
   "name": "python",
   "nbconvert_exporter": "python",
   "pygments_lexer": "ipython3",
   "version": "3.6.8"
  }
 },
 "nbformat": 4,
 "nbformat_minor": 2
}
