{
 "cells": [
  {
   "cell_type": "code",
   "execution_count": 10,
   "metadata": {},
   "outputs": [],
   "source": [
    "import numpy as np"
   ]
  },
  {
   "cell_type": "code",
   "execution_count": 11,
   "metadata": {},
   "outputs": [],
   "source": [
    "data = np.loadtxt(\"data.csv\", delimiter = \",\")\n",
    "x = data[:, 0]\n",
    "y = data[:, 1]"
   ]
  },
  {
   "cell_type": "code",
   "execution_count": 12,
   "metadata": {},
   "outputs": [],
   "source": [
    "from sklearn import model_selection\n",
    "X_train, X_test, Y_train, Y_test = model_selection.train_test_split(x, y, test_size = 0.3)"
   ]
  },
  {
   "cell_type": "code",
   "execution_count": 13,
   "metadata": {},
   "outputs": [],
   "source": [
    "# for fit function\n",
    "def fit(x, y):\n",
    "    m = ((x*y).mean() - (x.mean() * y.mean())) / ((x*x).mean() - (x.mean() * x.mean()))\n",
    "    c = y.mean() - m * x.mean() \n",
    "    return (m, c)"
   ]
  },
  {
   "cell_type": "code",
   "execution_count": 14,
   "metadata": {},
   "outputs": [],
   "source": [
    "# for predict function\n",
    "def predict(x, m, c):\n",
    "    y = m * x + c\n",
    "    return y"
   ]
  },
  {
   "cell_type": "code",
   "execution_count": 15,
   "metadata": {},
   "outputs": [],
   "source": [
    "# for Coefficient of Determination function\n",
    "def cd(y_predicted, y_test):\n",
    "    u = ((y_test - y_predicted) ** 2).sum()\n",
    "    v = ((y_test - y_test.mean()) ** 2).sum()\n",
    "    return (1 - u/v)"
   ]
  },
  {
   "cell_type": "code",
   "execution_count": 19,
   "metadata": {},
   "outputs": [],
   "source": [
    "# for cost function\n",
    "def cost(x, y, m, c):\n",
    "    cost = (((y - (m * x + c)) ** 2).mean())\n",
    "    return cost"
   ]
  },
  {
   "cell_type": "code",
   "execution_count": 20,
   "metadata": {},
   "outputs": [
    {
     "name": "stdout",
     "output_type": "stream",
     "text": [
      "M:  1.3975606290558467\n",
      "C:  5.437657130732376\n",
      "Train Score:  0.586670654564464\n",
      "Test Score:  0.6041124408559841\n",
      "Train Cost:  120.40561726988932\n",
      "Test Cost:  92.56523613583259\n"
     ]
    }
   ],
   "source": [
    "# calling the functions\n",
    "m, c = fit(X_train, Y_train)\n",
    "print(\"M: \", m)\n",
    "print(\"C: \", c)\n",
    "\n",
    "Y_train_predicted = predict(X_train, m, c)\n",
    "score_train = cd(Y_train_predicted, Y_train)\n",
    "print(\"Train Score: \", score_train)\n",
    "\n",
    "Y_test_predicted = predict(X_test, m, c)\n",
    "score_test = cd(Y_test_predicted, Y_test)\n",
    "print(\"Test Score: \", score_test)\n",
    "\n",
    "cost_train = cost(X_train, Y_train, m, c)\n",
    "print(\"Train Cost: \",cost_train)\n",
    "\n",
    "cost_test = cost(X_test, Y_test, m , c)\n",
    "print(\"Test Cost: \", cost_test)"
   ]
  }
 ],
 "metadata": {
  "kernelspec": {
   "display_name": "Python 3",
   "language": "python",
   "name": "python3"
  },
  "language_info": {
   "codemirror_mode": {
    "name": "ipython",
    "version": 3
   },
   "file_extension": ".py",
   "mimetype": "text/x-python",
   "name": "python",
   "nbconvert_exporter": "python",
   "pygments_lexer": "ipython3",
   "version": "3.6.5"
  }
 },
 "nbformat": 4,
 "nbformat_minor": 2
}
