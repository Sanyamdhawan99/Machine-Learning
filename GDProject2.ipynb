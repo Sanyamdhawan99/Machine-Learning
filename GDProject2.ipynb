{
 "cells": [
  {
   "cell_type": "code",
   "execution_count": 21,
   "metadata": {},
   "outputs": [],
   "source": [
    "import numpy as np\n",
    "import matplotlib.pyplot as plt\n",
    "from sklearn import preprocessing"
   ]
  },
  {
   "cell_type": "code",
   "execution_count": 22,
   "metadata": {},
   "outputs": [],
   "source": [
    "# for Coefficient of Determination function\n",
    "def cd(y_predicted, y_test):\n",
    "    u = ((y_test - y_predicted) ** 2).sum()\n",
    "    v = ((y_test - y_test.mean()) ** 2).sum()\n",
    "    return (1 - u/v)"
   ]
  },
  {
   "cell_type": "code",
   "execution_count": 23,
   "metadata": {},
   "outputs": [],
   "source": [
    "# step_gradient function\n",
    "def step_gradient(data, y_train, learning_rate, m):\n",
    "    # break data into x and y\n",
    "    m_slope = np.zeros(5)\n",
    "    #c_slope = 0\n",
    "    M = len(data)\n",
    "    for i in range(M):\n",
    "        x = data[i, 0:5]\n",
    "        y = y_train[i]\n",
    "        ans = 0\n",
    "        # use one more loop to loop over each m value\n",
    "        for j in range(5):\n",
    "            #m_slope[j] += (-2 / M) * (y - m[j] * x[j] - m[size]) * x[j]\n",
    "            #c_slope += (-2 / M) * (y - m[j] * x[j] - m[size]) \n",
    "            ans += x[j] * m[j]\n",
    "        for k in range(5):\n",
    "            m_slope[k] += (-2 / M) * (y - ans) * x[k]\n",
    "    new_m = m - learning_rate * m_slope\n",
    "    return new_m"
   ]
  },
  {
   "cell_type": "code",
   "execution_count": 24,
   "metadata": {},
   "outputs": [],
   "source": [
    "# gradient descent:\n",
    "def gd(data, learning_rate, iterations):\n",
    "    # create the m array including c which means m[size] = c\n",
    "    m = np.zeros(5)\n",
    "    y_train = data[:, 5]\n",
    "    #print(\"Y train: \", y_train)\n",
    "    for i in range(iterations):\n",
    "        m = step_gradient(data, y_train, learning_rate, m)\n",
    "    return m    "
   ]
  },
  {
   "cell_type": "code",
   "execution_count": 27,
   "metadata": {},
   "outputs": [],
   "source": [
    "def run():\n",
    "    #print(X)\n",
    "    train_data = np.genfromtxt(\"GDProject2_train.csv\", delimiter = \",\")\n",
    "    iterations = 1000000\n",
    "    learning_rate = 0.0001\n",
    "    scaler = preprocessing.StandardScaler()\n",
    "    X = train_data[:, 0:5]\n",
    "    #print(\"X: \", X)\n",
    "    scaler.fit(X)\n",
    "    X = scaler.transform(X)\n",
    "    train_data[:, 0:5] = X\n",
    "    Y = train_data[:, 5]\n",
    "    print(train_data)\n",
    "    print(train_data.shape)\n",
    "    print(X.shape)\n",
    "    print(Y.shape)\n",
    "    M = gd(train_data, learning_rate, iterations)\n",
    "    m = M[0:4]\n",
    "    c = M[4]\n",
    "    print(m)\n",
    "    print(c)\n",
    "    Y_train_predicted = np.zeros(train_data.shape[0])\n",
    "    print(Y_train_predicted.shape)\n",
    "    for i in range(train_data.shape[0]):\n",
    "        temp = 0\n",
    "        x = X[i, 0:5]\n",
    "        for j in range(5):    \n",
    "            temp += (M[j] * x[j])\n",
    "        Y_train_predicted[i] += (temp)      \n",
    "    np.savetxt(\"Y_GDProject2_train_predicted.csv\", Y_train_predicted, fmt = \"%0.5f\", delimiter=\",\")\n",
    "    a = np.arange(0 , 7176*50, 50)\n",
    "    plt.scatter(a, Y, color=\"blue\")\n",
    "    plt.scatter(a, Y_train_predicted, color=\"red\")\n",
    "    plt.show()\n",
    "    # for testing data\n",
    "    test_data = np.genfromtxt(\"GDProject2_test.csv\", delimiter = \",\")\n",
    "    test_data = scaler.transform(test_data)\n",
    "    Y_test_predicted = np.zeros(test_data.shape[0])\n",
    "    #Y_train_predicted = M * test_data\n",
    "    print(Y_test_predicted.shape)\n",
    "    for i in range(test_data.shape[0]):\n",
    "        temp = 0\n",
    "        x = test_data[i, 0:5]\n",
    "        for j in range(5):    \n",
    "            temp += (M[j] * x[j])\n",
    "        Y_test_predicted[i] += (temp)\n",
    "    np.savetxt(\"Y_GDProject2_test_predicted.csv\", Y_test_predicted, fmt = \"%0.1f\", delimiter=\",\")\n",
    "    score_train = cd(Y_train_predicted, Y)\n",
    "    print(score_train)"
   ]
  },
  {
   "cell_type": "code",
   "execution_count": 28,
   "metadata": {},
   "outputs": [
    {
     "name": "stdout",
     "output_type": "stream",
     "text": [
      "[[-1.47827466e+00 -1.24764165e+00  1.30221067e+00  7.58624590e-01\n",
      "   0.00000000e+00  4.82260000e+02]\n",
      " [ 2.89012041e-01  3.06797549e-01  6.61749044e-01 -4.46921842e-01\n",
      "   0.00000000e+00  4.46940000e+02]\n",
      " [-3.99975582e-01 -4.21012529e-01 -2.87207194e-01  3.75010552e-01\n",
      "   0.00000000e+00  4.52560000e+02]\n",
      " ...\n",
      " [ 1.36062192e+00  1.18048335e+00 -6.54382840e-01 -5.83682640e-01\n",
      "   0.00000000e+00  4.37650000e+02]\n",
      " [-4.36097263e-01  9.29089763e-04  7.84140927e-01 -6.59584883e-01\n",
      "   0.00000000e+00  4.59970000e+02]\n",
      " [ 1.40209496e+00  6.07960340e-01 -4.31394890e-01 -1.73110573e+00\n",
      "   0.00000000e+00  4.44420000e+02]]\n",
      "(7176, 6)\n",
      "(7176, 5)\n",
      "(7176,)\n",
      "[-14.90272934  -2.8942782    0.34973996  -2.34230171]\n",
      "0.0\n",
      "(7176,)\n"
     ]
    },
    {
     "data": {
      "image/png": "[encoded data removed]",
      "text/plain": [
       "<Figure size 432x288 with 1 Axes>"
      ]
     },
     "metadata": {},
     "output_type": "display_data"
    },
    {
     "name": "stdout",
     "output_type": "stream",
     "text": [
      "(2392,)\n",
      "-702.5492128308332\n"
     ]
    }
   ],
   "source": [
    "run()"
   ]
  }
 ],
 "metadata": {
  "kernelspec": {
   "display_name": "Python 3",
   "language": "python",
   "name": "python3"
  },
  "language_info": {
   "codemirror_mode": {
    "name": "ipython",
    "version": 3
   },
   "file_extension": ".py",
   "mimetype": "text/x-python",
   "name": "python",
   "nbconvert_exporter": "python",
   "pygments_lexer": "ipython3",
   "version": "3.6.5"
  }
 },
 "nbformat": 4,
 "nbformat_minor": 2
}
