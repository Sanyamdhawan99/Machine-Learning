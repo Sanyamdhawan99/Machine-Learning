{
 "cells": [
  {
   "cell_type": "code",
   "execution_count": 18,
   "metadata": {},
   "outputs": [],
   "source": [
    "import numpy as np\n",
    "from sklearn.linear_model import LinearRegression\n",
    "from sklearn import preprocessing"
   ]
  },
  {
   "cell_type": "code",
   "execution_count": 19,
   "metadata": {},
   "outputs": [
    {
     "name": "stdout",
     "output_type": "stream",
     "text": [
      "[[   8.58   38.38 1021.03   84.37]\n",
      " [  21.79   58.2  1017.21   66.74]\n",
      " [  16.64   48.92 1011.55   78.76]\n",
      " ...\n",
      " [  29.8    69.34 1009.36   64.74]\n",
      " [  16.37   54.3  1017.94   63.63]\n",
      " [  30.11   62.04 1010.69   47.96]]\n",
      "[482.26 446.94 452.56 ... 437.65 459.97 444.42]\n"
     ]
    }
   ],
   "source": [
    "train_data = np.genfromtxt(\"GDpr2_train.csv\", delimiter = \",\")\n",
    "X = train_data[:, 0:4]\n",
    "#scaler = preprocessing.StandardScaler()\n",
    "#scaler.fit(X)\n",
    "#X = scaler.transform(X)\n",
    "Y = train_data[:, 4]\n",
    "print(X)\n",
    "print(Y)"
   ]
  },
  {
   "cell_type": "code",
   "execution_count": 20,
   "metadata": {},
   "outputs": [
    {
     "name": "stdout",
     "output_type": "stream",
     "text": [
      "[-1.99374681 -0.2269919   0.05863744 -0.16016753]\n",
      "458.21219391683843\n"
     ]
    }
   ],
   "source": [
    "alg1 = LinearRegression()\n",
    "alg1.fit(X, Y)\n",
    "print(alg1.coef_)\n",
    "print(alg1.intercept_)"
   ]
  },
  {
   "cell_type": "code",
   "execution_count": 21,
   "metadata": {},
   "outputs": [
    {
     "name": "stdout",
     "output_type": "stream",
     "text": [
      "[[  11.95   42.03 1017.58   90.89]\n",
      " [  12.07   38.25 1012.67   81.66]\n",
      " [  26.91   74.99 1005.64   78.98]\n",
      " ...\n",
      " [  24.32   66.25 1009.09   91.89]\n",
      " [  23.49   42.8  1013.96   65.31]\n",
      " [  21.76   60.27 1018.96   85.06]]\n"
     ]
    }
   ],
   "source": [
    "test_data = np.genfromtxt(\"GDpr2_test.csv\", delimiter = \",\")\n",
    "X_test = test_data[:, 0:4]\n",
    "#scaler = preprocessing.StandardScaler()\n",
    "#scaler.fit(X_test)\n",
    "#X_test = scaler.transform(X_test)\n",
    "print(X_test)"
   ]
  },
  {
   "cell_type": "code",
   "execution_count": 22,
   "metadata": {},
   "outputs": [
    {
     "name": "stdout",
     "output_type": "stream",
     "text": [
      "[469.95711113 471.76632733 433.85647002 ... 439.13871988 450.65930697\n",
      " 447.27281902]\n"
     ]
    }
   ],
   "source": [
    "Y_test = alg1.predict(X_test)\n",
    "print(Y_test)"
   ]
  },
  {
   "cell_type": "code",
   "execution_count": 23,
   "metadata": {},
   "outputs": [],
   "source": [
    "np.savetxt(\"Y_GDProject2_test_predicted.csv\", Y_test, fmt = \"%0.5f\", delimiter=\",\")"
   ]
  }
 ],
 "metadata": {
  "kernelspec": {
   "display_name": "Python 3",
   "language": "python",
   "name": "python3"
  },
  "language_info": {
   "codemirror_mode": {
    "name": "ipython",
    "version": 3
   },
   "file_extension": ".py",
   "mimetype": "text/x-python",
   "name": "python",
   "nbconvert_exporter": "python",
   "pygments_lexer": "ipython3",
   "version": "3.6.5"
  }
 },
 "nbformat": 4,
 "nbformat_minor": 2
}
