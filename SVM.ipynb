{
 "cells": [
  {
   "cell_type": "code",
   "execution_count": 26,
   "metadata": {},
   "outputs": [],
   "source": [
    "import numpy as np\n",
    "import matplotlib.pyplot as plt"
   ]
  },
  {
   "cell_type": "code",
   "execution_count": 46,
   "metadata": {},
   "outputs": [
    {
     "data": {
      "text/plain": [
       "(13, 2)"
      ]
     },
     "execution_count": 46,
     "metadata": {},
     "output_type": "execute_result"
    }
   ],
   "source": [
    "x = np.array([[1,1], [2,1], [1,2], [1.5,1.5], [2,2], [2,5], [4,3], [7,2], [3,5], [2,6], [6,2], [3,4], [4,4]])\n",
    "y = [0, 0, 0, 0, 1, 1, 1, 1, 1, 1, 1, 1, 1]\n",
    "x.shape"
   ]
  },
  {
   "cell_type": "code",
   "execution_count": 47,
   "metadata": {},
   "outputs": [
    {
     "data": {
      "image/png": "[encoded data removed]",
      "text/plain": [
       "<Figure size 432x288 with 1 Axes>"
      ]
     },
     "metadata": {},
     "output_type": "display_data"
    }
   ],
   "source": [
    "X_X1 = x[:, 0]\n",
    "X_X2 = x[:, 1]\n",
    "plt.scatter(X_X1, X_X2, c = y)\n",
    "plt.show()"
   ]
  },
  {
   "cell_type": "code",
   "execution_count": 28,
   "metadata": {},
   "outputs": [],
   "source": [
    "from sklearn import svm"
   ]
  },
  {
   "cell_type": "code",
   "execution_count": 59,
   "metadata": {},
   "outputs": [
    {
     "data": {
      "text/plain": [
       "(array([[0.5, 0.5]]), array([-2.5]))"
      ]
     },
     "execution_count": 59,
     "metadata": {},
     "output_type": "execute_result"
    }
   ],
   "source": [
    "svcLinear = svm.SVC(kernel='linear', C=1).fit(x, y)\n",
    "svcLinear.coef_, svcLinear.intercept_"
   ]
  },
  {
   "cell_type": "code",
   "execution_count": 60,
   "metadata": {},
   "outputs": [
    {
     "data": {
      "image/png": "[encoded data removed]",
      "text/plain": [
       "<Figure size 432x288 with 1 Axes>"
      ]
     },
     "metadata": {},
     "output_type": "display_data"
    }
   ],
   "source": [
    "X1 = np.array([0, 5])\n",
    "X2 = -1 * (svcLinear.intercept_ + svcLinear.coef_[0][0] * X1) / svcLinear.coef_[0][1]\n",
    "plt.plot(X1, X2)\n",
    "plt.scatter(X_X1, X_X2, c=y)\n",
    "plt.axis([0, 8, 0, 8])\n",
    "plt.show()"
   ]
  },
  {
   "cell_type": "code",
   "execution_count": 61,
   "metadata": {},
   "outputs": [
    {
     "data": {
      "text/plain": [
       "(array([[2., 2.]]), array([-7.]))"
      ]
     },
     "execution_count": 61,
     "metadata": {},
     "output_type": "execute_result"
    }
   ],
   "source": [
    "svcLinear = svm.SVC(kernel='linear', C=100).fit(x, y)\n",
    "svcLinear.coef_, svcLinear.intercept_"
   ]
  },
  {
   "cell_type": "code",
   "execution_count": 63,
   "metadata": {},
   "outputs": [
    {
     "data": {
      "image/png": "[encoded data removed]",
      "text/plain": [
       "<Figure size 432x288 with 1 Axes>"
      ]
     },
     "metadata": {},
     "output_type": "display_data"
    }
   ],
   "source": [
    "X1 = np.array([0, 5])\n",
    "X2 = -1 * (svcLinear.intercept_ + svcLinear.coef_[0][0] * X1) / svcLinear.coef_[0][1]\n",
    "plt.plot(X1, X2)\n",
    "plt.scatter(X_X1, X_X2, c=y)\n",
    "plt.axis([0, 8, 0, 8])\n",
    "plt.show()"
   ]
  },
  {
   "cell_type": "markdown",
   "metadata": {},
   "source": [
    "# SVM on Iris dataset"
   ]
  },
  {
   "cell_type": "code",
   "execution_count": 130,
   "metadata": {},
   "outputs": [],
   "source": [
    "from sklearn import svm, datasets\n",
    "import numpy as np\n",
    "from sklearn.model_selection import train_test_split\n",
    "import matplotlib.pyplot as plt"
   ]
  },
  {
   "cell_type": "code",
   "execution_count": 131,
   "metadata": {},
   "outputs": [],
   "source": [
    "iris = datasets.load_iris()\n",
    "# for plotting data in 2D\n",
    "x = iris.data[:, 0:2]\n",
    "y = iris.target"
   ]
  },
  {
   "cell_type": "code",
   "execution_count": 132,
   "metadata": {},
   "outputs": [],
   "source": [
    "x_train, x_test, y_train, y_test = train_test_split(x, y)"
   ]
  },
  {
   "cell_type": "code",
   "execution_count": 139,
   "metadata": {},
   "outputs": [
    {
     "data": {
      "text/plain": [
       "SVC(C=1.0, cache_size=200, class_weight=None, coef0=0.0,\n",
       "  decision_function_shape='ovr', degree=3, gamma='auto', kernel='linear',\n",
       "  max_iter=-1, probability=False, random_state=None, shrinking=True,\n",
       "  tol=0.001, verbose=False)"
      ]
     },
     "execution_count": 139,
     "metadata": {},
     "output_type": "execute_result"
    }
   ],
   "source": [
    "clf = svm.SVC(kernel='linear')\n",
    "clf.fit(x_train, y_train)"
   ]
  },
  {
   "cell_type": "code",
   "execution_count": 140,
   "metadata": {},
   "outputs": [
    {
     "data": {
      "text/plain": [
       "0.8157894736842105"
      ]
     },
     "execution_count": 140,
     "metadata": {},
     "output_type": "execute_result"
    }
   ],
   "source": [
    "clf.score(x_test, y_test)"
   ]
  },
  {
   "cell_type": "code",
   "execution_count": 141,
   "metadata": {},
   "outputs": [],
   "source": [
    "# code for printing the plot\n",
    "def makegrid(x1, x2, h = 0.02):\n",
    "    x1_min, x1_max = x1.min()-1, x1.max()+1\n",
    "    x2_min, x2_max = x2.min()-1, x2.max()+1\n",
    "    a = np.arange(x1_min, x1_max, h)\n",
    "    b = np.arange(x2_min, x2_max, h)\n",
    "    xx, yy = np.meshgrid(a, b)\n",
    "    return xx, yy"
   ]
  },
  {
   "cell_type": "code",
   "execution_count": 142,
   "metadata": {},
   "outputs": [],
   "source": [
    "xx, yy = makegrid(x[:, 0], x[:, 1])"
   ]
  },
  {
   "cell_type": "code",
   "execution_count": 143,
   "metadata": {},
   "outputs": [
    {
     "data": {
      "image/png": "[encoded data removed]",
      "text/plain": [
       "<Figure size 432x288 with 1 Axes>"
      ]
     },
     "metadata": {},
     "output_type": "display_data"
    }
   ],
   "source": [
    "predictions = clf.predict(np.c_[xx.ravel(), yy.ravel()])\n",
    "plt.scatter(xx.ravel(), yy.ravel(), c=predictions)\n",
    "plt.show()"
   ]
  },
  {
   "cell_type": "markdown",
   "metadata": {},
   "source": [
    "# Choosing good parameters"
   ]
  },
  {
   "cell_type": "code",
   "execution_count": 144,
   "metadata": {},
   "outputs": [],
   "source": [
    "from sklearn.model_selection import GridSearchCV\n",
    "from sklearn.neighbors import KNeighborsClassifier"
   ]
  },
  {
   "cell_type": "code",
   "execution_count": 145,
   "metadata": {},
   "outputs": [],
   "source": [
    "clf = KNeighborsClassifier()\n",
    "x = iris.data\n",
    "y = iris.target\n",
    "x_train, x_test, y_train, y_test = train_test_split(x, y)"
   ]
  },
  {
   "cell_type": "code",
   "execution_count": 148,
   "metadata": {},
   "outputs": [
    {
     "data": {
      "text/plain": [
       "GridSearchCV(cv=None, error_score='raise',\n",
       "       estimator=KNeighborsClassifier(algorithm='auto', leaf_size=30, metric='minkowski',\n",
       "           metric_params=None, n_jobs=1, n_neighbors=5, p=2,\n",
       "           weights='uniform'),\n",
       "       fit_params=None, iid=True, n_jobs=1,\n",
       "       param_grid={'n_neighbors': [3, 5, 7, 9, 11, 13, 15, 17, 19]},\n",
       "       pre_dispatch='2*n_jobs', refit=True, return_train_score='warn',\n",
       "       scoring=None, verbose=0)"
      ]
     },
     "execution_count": 148,
     "metadata": {},
     "output_type": "execute_result"
    }
   ],
   "source": [
    "grid = {\"n_neighbors\":[3, 5, 7, 9, 11, 13, 15, 17, 19]}\n",
    "abc = GridSearchCV(clf, grid)\n",
    "abc.fit(x_train, y_train)"
   ]
  },
  {
   "cell_type": "code",
   "execution_count": 149,
   "metadata": {},
   "outputs": [
    {
     "data": {
      "text/plain": [
       "KNeighborsClassifier(algorithm='auto', leaf_size=30, metric='minkowski',\n",
       "           metric_params=None, n_jobs=1, n_neighbors=7, p=2,\n",
       "           weights='uniform')"
      ]
     },
     "execution_count": 149,
     "metadata": {},
     "output_type": "execute_result"
    }
   ],
   "source": [
    "abc.best_estimator_"
   ]
  },
  {
   "cell_type": "code",
   "execution_count": 150,
   "metadata": {},
   "outputs": [
    {
     "name": "stderr",
     "output_type": "stream",
     "text": [
      "C:\\Users\\hp\\Anaconda3\\lib\\site-packages\\sklearn\\utils\\deprecation.py:122: FutureWarning: You are accessing a training score ('split0_train_score'), which will not be available by default any more in 0.21. If you need training scores, please set return_train_score=True\n",
      "  warnings.warn(*warn_args, **warn_kwargs)\n",
      "C:\\Users\\hp\\Anaconda3\\lib\\site-packages\\sklearn\\utils\\deprecation.py:122: FutureWarning: You are accessing a training score ('split1_train_score'), which will not be available by default any more in 0.21. If you need training scores, please set return_train_score=True\n",
      "  warnings.warn(*warn_args, **warn_kwargs)\n",
      "C:\\Users\\hp\\Anaconda3\\lib\\site-packages\\sklearn\\utils\\deprecation.py:122: FutureWarning: You are accessing a training score ('split2_train_score'), which will not be available by default any more in 0.21. If you need training scores, please set return_train_score=True\n",
      "  warnings.warn(*warn_args, **warn_kwargs)\n",
      "C:\\Users\\hp\\Anaconda3\\lib\\site-packages\\sklearn\\utils\\deprecation.py:122: FutureWarning: You are accessing a training score ('mean_train_score'), which will not be available by default any more in 0.21. If you need training scores, please set return_train_score=True\n",
      "  warnings.warn(*warn_args, **warn_kwargs)\n",
      "C:\\Users\\hp\\Anaconda3\\lib\\site-packages\\sklearn\\utils\\deprecation.py:122: FutureWarning: You are accessing a training score ('std_train_score'), which will not be available by default any more in 0.21. If you need training scores, please set return_train_score=True\n",
      "  warnings.warn(*warn_args, **warn_kwargs)\n"
     ]
    },
    {
     "data": {
      "text/plain": [
       "{'mean_fit_time': array([0.        , 0.        , 0.00034269, 0.        , 0.        ,\n",
       "        0.00012771, 0.00017865, 0.00085688, 0.00033132]),\n",
       " 'std_fit_time': array([0.        , 0.        , 0.00048463, 0.        , 0.        ,\n",
       "        0.00018061, 0.00025266, 0.00060645, 0.00046856]),\n",
       " 'mean_score_time': array([0.00458829, 0.        , 0.        , 0.        , 0.00563423,\n",
       "        0.00078702, 0.00090408, 0.00134238, 0.00131313]),\n",
       " 'std_score_time': array([0.00648882, 0.        , 0.        , 0.        , 0.00712019,\n",
       "        0.00057637, 0.00068878, 0.00118481, 0.00164935]),\n",
       " 'param_n_neighbors': masked_array(data=[3, 5, 7, 9, 11, 13, 15, 17, 19],\n",
       "              mask=[False, False, False, False, False, False, False, False,\n",
       "                    False],\n",
       "        fill_value='?',\n",
       "             dtype=object),\n",
       " 'params': [{'n_neighbors': 3},\n",
       "  {'n_neighbors': 5},\n",
       "  {'n_neighbors': 7},\n",
       "  {'n_neighbors': 9},\n",
       "  {'n_neighbors': 11},\n",
       "  {'n_neighbors': 13},\n",
       "  {'n_neighbors': 15},\n",
       "  {'n_neighbors': 17},\n",
       "  {'n_neighbors': 19}],\n",
       " 'split0_test_score': array([0.94871795, 0.97435897, 0.94871795, 0.94871795, 0.94871795,\n",
       "        0.94871795, 0.92307692, 0.94871795, 0.97435897]),\n",
       " 'split1_test_score': array([0.94594595, 0.91891892, 0.97297297, 0.97297297, 0.94594595,\n",
       "        0.94594595, 0.94594595, 0.91891892, 0.91891892]),\n",
       " 'split2_test_score': array([1.        , 1.        , 1.        , 1.        , 0.97222222,\n",
       "        1.        , 1.        , 0.97222222, 0.97222222]),\n",
       " 'mean_test_score': array([0.96428571, 0.96428571, 0.97321429, 0.97321429, 0.95535714,\n",
       "        0.96428571, 0.95535714, 0.94642857, 0.95535714]),\n",
       " 'std_test_score': array([0.02460674, 0.03354463, 0.02096638, 0.02096638, 0.01166332,\n",
       "        0.02460674, 0.03213574, 0.0215797 , 0.02560827]),\n",
       " 'rank_test_score': array([3, 3, 1, 1, 6, 3, 6, 9, 6]),\n",
       " 'split0_train_score': array([0.98630137, 0.98630137, 1.        , 1.        , 1.        ,\n",
       "        0.98630137, 1.        , 1.        , 0.98630137]),\n",
       " 'split1_train_score': array([0.98666667, 0.98666667, 0.97333333, 0.97333333, 0.96      ,\n",
       "        0.96      , 0.96      , 0.97333333, 0.96      ]),\n",
       " 'split2_train_score': array([0.93421053, 0.97368421, 0.97368421, 0.97368421, 0.97368421,\n",
       "        0.96052632, 0.96052632, 0.97368421, 0.94736842]),\n",
       " 'mean_train_score': array([0.96905952, 0.98221742, 0.98233918, 0.98233918, 0.97789474,\n",
       "        0.96894256, 0.97350877, 0.98233918, 0.9645566 ]),\n",
       " 'std_train_score': array([0.02464241, 0.00603573, 0.01248891, 0.01248891, 0.01659912,\n",
       "        0.01227641, 0.01873336, 0.01248891, 0.01621759])}"
      ]
     },
     "execution_count": 150,
     "metadata": {},
     "output_type": "execute_result"
    }
   ],
   "source": [
    "abc.cv_results_"
   ]
  },
  {
   "cell_type": "code",
   "execution_count": 154,
   "metadata": {},
   "outputs": [
    {
     "data": {
      "text/plain": [
       "GridSearchCV(cv=None, error_score='raise',\n",
       "       estimator=SVC(C=1.0, cache_size=200, class_weight=None, coef0=0.0,\n",
       "  decision_function_shape='ovr', degree=3, gamma='auto', kernel='rbf',\n",
       "  max_iter=-1, probability=False, random_state=None, shrinking=True,\n",
       "  tol=0.001, verbose=False),\n",
       "       fit_params=None, iid=True, n_jobs=1,\n",
       "       param_grid={'C': [100.0, 1000.0, 10000.0, 5000.0, 50000.0, 100000.0], 'gamma': [0.01, 0.001, 0.0001, 0.0005, 0.005]},\n",
       "       pre_dispatch='2*n_jobs', refit=True, return_train_score='warn',\n",
       "       scoring=None, verbose=0)"
      ]
     },
     "execution_count": 154,
     "metadata": {},
     "output_type": "execute_result"
    }
   ],
   "source": [
    "# for SVM\n",
    "clf_svm = svm.SVC()\n",
    "grid = {\"C\":[1e2, 1e3, 1e4, 5e3, 5e4, 1e5], 'gamma':[1e-2, 1e-3, 1e-4, 5e-4, 5e-3]}\n",
    "abc_svm = GridSearchCV(clf_svm, grid)\n",
    "abc_svm.fit(x_train, y_train)"
   ]
  },
  {
   "cell_type": "code",
   "execution_count": 155,
   "metadata": {},
   "outputs": [
    {
     "data": {
      "text/plain": [
       "SVC(C=100.0, cache_size=200, class_weight=None, coef0=0.0,\n",
       "  decision_function_shape='ovr', degree=3, gamma=0.01, kernel='rbf',\n",
       "  max_iter=-1, probability=False, random_state=None, shrinking=True,\n",
       "  tol=0.001, verbose=False)"
      ]
     },
     "execution_count": 155,
     "metadata": {},
     "output_type": "execute_result"
    }
   ],
   "source": [
    "abc_svm.best_estimator_"
   ]
  },
  {
   "cell_type": "code",
   "execution_count": 158,
   "metadata": {},
   "outputs": [
    {
     "name": "stderr",
     "output_type": "stream",
     "text": [
      "C:\\Users\\hp\\Anaconda3\\lib\\site-packages\\sklearn\\utils\\deprecation.py:122: FutureWarning: You are accessing a training score ('split0_train_score'), which will not be available by default any more in 0.21. If you need training scores, please set return_train_score=True\n",
      "  warnings.warn(*warn_args, **warn_kwargs)\n",
      "C:\\Users\\hp\\Anaconda3\\lib\\site-packages\\sklearn\\utils\\deprecation.py:122: FutureWarning: You are accessing a training score ('split1_train_score'), which will not be available by default any more in 0.21. If you need training scores, please set return_train_score=True\n",
      "  warnings.warn(*warn_args, **warn_kwargs)\n",
      "C:\\Users\\hp\\Anaconda3\\lib\\site-packages\\sklearn\\utils\\deprecation.py:122: FutureWarning: You are accessing a training score ('split2_train_score'), which will not be available by default any more in 0.21. If you need training scores, please set return_train_score=True\n",
      "  warnings.warn(*warn_args, **warn_kwargs)\n",
      "C:\\Users\\hp\\Anaconda3\\lib\\site-packages\\sklearn\\utils\\deprecation.py:122: FutureWarning: You are accessing a training score ('mean_train_score'), which will not be available by default any more in 0.21. If you need training scores, please set return_train_score=True\n",
      "  warnings.warn(*warn_args, **warn_kwargs)\n",
      "C:\\Users\\hp\\Anaconda3\\lib\\site-packages\\sklearn\\utils\\deprecation.py:122: FutureWarning: You are accessing a training score ('std_train_score'), which will not be available by default any more in 0.21. If you need training scores, please set return_train_score=True\n",
      "  warnings.warn(*warn_args, **warn_kwargs)\n"
     ]
    },
    {
     "data": {
      "text/plain": [
       "{'mean_fit_time': array([0.00000000e+00, 2.88287799e-03, 0.00000000e+00, 6.95546468e-04,\n",
       "        0.00000000e+00, 3.33309174e-04, 3.32434972e-04, 0.00000000e+00,\n",
       "        1.50203705e-05, 0.00000000e+00, 2.10030874e-03, 3.33229701e-04,\n",
       "        6.88393911e-04, 3.34819158e-04, 0.00000000e+00, 3.32673391e-04,\n",
       "        3.19163005e-04, 3.33388646e-04, 6.65823619e-04, 6.36736552e-04,\n",
       "        9.96907552e-04, 3.27984492e-04, 0.00000000e+00, 0.00000000e+00,\n",
       "        1.23270353e-03, 0.00000000e+00, 0.00000000e+00, 0.00000000e+00,\n",
       "        0.00000000e+00, 3.31083934e-04]),\n",
       " 'std_fit_time': array([0.00000000e+00, 3.02465421e-03, 0.00000000e+00, 9.83651248e-04,\n",
       "        0.00000000e+00, 4.71370354e-04, 4.70134046e-04, 0.00000000e+00,\n",
       "        2.12420116e-05, 0.00000000e+00, 2.95714503e-03, 4.71257962e-04,\n",
       "        4.86768002e-04, 4.73505794e-04, 0.00000000e+00, 4.70471221e-04,\n",
       "        4.51364650e-04, 4.71482745e-04, 4.70808557e-04, 4.52181869e-04,\n",
       "        2.59232623e-06, 4.63840117e-04, 0.00000000e+00, 0.00000000e+00,\n",
       "        4.64046649e-05, 0.00000000e+00, 0.00000000e+00, 0.00000000e+00,\n",
       "        0.00000000e+00, 4.68223389e-04]),\n",
       " 'mean_score_time': array([0.        , 0.        , 0.        , 0.        , 0.        ,\n",
       "        0.00269214, 0.        , 0.00133928, 0.00033299, 0.        ,\n",
       "        0.        , 0.00036812, 0.00033299, 0.00101153, 0.0002358 ,\n",
       "        0.00041095, 0.00079592, 0.00033267, 0.00033283, 0.00032624,\n",
       "        0.00054598, 0.        , 0.00033243, 0.        , 0.        ,\n",
       "        0.00034404, 0.        , 0.        , 0.00250713, 0.        ]),\n",
       " 'std_score_time': array([0.        , 0.        , 0.        , 0.        , 0.        ,\n",
       "        0.00380727, 0.        , 0.00189402, 0.00047092, 0.        ,\n",
       "        0.        , 0.00044831, 0.00047092, 0.00143052, 0.00033347,\n",
       "        0.00058118, 0.00058562, 0.00047047, 0.0004707 , 0.00046137,\n",
       "        0.00041344, 0.        , 0.00047013, 0.        , 0.        ,\n",
       "        0.00048654, 0.        , 0.        , 0.00354562, 0.        ]),\n",
       " 'param_C': masked_array(data=[100.0, 100.0, 100.0, 100.0, 100.0, 1000.0, 1000.0,\n",
       "                    1000.0, 1000.0, 1000.0, 10000.0, 10000.0, 10000.0,\n",
       "                    10000.0, 10000.0, 5000.0, 5000.0, 5000.0, 5000.0,\n",
       "                    5000.0, 50000.0, 50000.0, 50000.0, 50000.0, 50000.0,\n",
       "                    100000.0, 100000.0, 100000.0, 100000.0, 100000.0],\n",
       "              mask=[False, False, False, False, False, False, False, False,\n",
       "                    False, False, False, False, False, False, False, False,\n",
       "                    False, False, False, False, False, False, False, False,\n",
       "                    False, False, False, False, False, False],\n",
       "        fill_value='?',\n",
       "             dtype=object),\n",
       " 'param_gamma': masked_array(data=[0.01, 0.001, 0.0001, 0.0005, 0.005, 0.01, 0.001,\n",
       "                    0.0001, 0.0005, 0.005, 0.01, 0.001, 0.0001, 0.0005,\n",
       "                    0.005, 0.01, 0.001, 0.0001, 0.0005, 0.005, 0.01, 0.001,\n",
       "                    0.0001, 0.0005, 0.005, 0.01, 0.001, 0.0001, 0.0005,\n",
       "                    0.005],\n",
       "              mask=[False, False, False, False, False, False, False, False,\n",
       "                    False, False, False, False, False, False, False, False,\n",
       "                    False, False, False, False, False, False, False, False,\n",
       "                    False, False, False, False, False, False],\n",
       "        fill_value='?',\n",
       "             dtype=object),\n",
       " 'params': [{'C': 100.0, 'gamma': 0.01},\n",
       "  {'C': 100.0, 'gamma': 0.001},\n",
       "  {'C': 100.0, 'gamma': 0.0001},\n",
       "  {'C': 100.0, 'gamma': 0.0005},\n",
       "  {'C': 100.0, 'gamma': 0.005},\n",
       "  {'C': 1000.0, 'gamma': 0.01},\n",
       "  {'C': 1000.0, 'gamma': 0.001},\n",
       "  {'C': 1000.0, 'gamma': 0.0001},\n",
       "  {'C': 1000.0, 'gamma': 0.0005},\n",
       "  {'C': 1000.0, 'gamma': 0.005},\n",
       "  {'C': 10000.0, 'gamma': 0.01},\n",
       "  {'C': 10000.0, 'gamma': 0.001},\n",
       "  {'C': 10000.0, 'gamma': 0.0001},\n",
       "  {'C': 10000.0, 'gamma': 0.0005},\n",
       "  {'C': 10000.0, 'gamma': 0.005},\n",
       "  {'C': 5000.0, 'gamma': 0.01},\n",
       "  {'C': 5000.0, 'gamma': 0.001},\n",
       "  {'C': 5000.0, 'gamma': 0.0001},\n",
       "  {'C': 5000.0, 'gamma': 0.0005},\n",
       "  {'C': 5000.0, 'gamma': 0.005},\n",
       "  {'C': 50000.0, 'gamma': 0.01},\n",
       "  {'C': 50000.0, 'gamma': 0.001},\n",
       "  {'C': 50000.0, 'gamma': 0.0001},\n",
       "  {'C': 50000.0, 'gamma': 0.0005},\n",
       "  {'C': 50000.0, 'gamma': 0.005},\n",
       "  {'C': 100000.0, 'gamma': 0.01},\n",
       "  {'C': 100000.0, 'gamma': 0.001},\n",
       "  {'C': 100000.0, 'gamma': 0.0001},\n",
       "  {'C': 100000.0, 'gamma': 0.0005},\n",
       "  {'C': 100000.0, 'gamma': 0.005}],\n",
       " 'split0_test_score': array([0.94871795, 0.94871795, 0.87179487, 0.94871795, 0.94871795,\n",
       "        0.94871795, 0.94871795, 0.94871795, 0.94871795, 0.94871795,\n",
       "        0.94871795, 0.94871795, 0.94871795, 0.94871795, 0.94871795,\n",
       "        0.94871795, 0.94871795, 0.94871795, 0.94871795, 0.94871795,\n",
       "        0.94871795, 0.94871795, 0.94871795, 0.94871795, 0.94871795,\n",
       "        0.94871795, 0.94871795, 0.94871795, 0.94871795, 0.94871795]),\n",
       " 'split1_test_score': array([0.97297297, 0.91891892, 0.86486486, 0.97297297, 0.97297297,\n",
       "        0.91891892, 0.97297297, 0.91891892, 0.97297297, 0.97297297,\n",
       "        0.97297297, 0.91891892, 0.97297297, 0.97297297, 0.97297297,\n",
       "        0.97297297, 0.97297297, 0.97297297, 0.97297297, 0.97297297,\n",
       "        0.94594595, 0.97297297, 0.97297297, 0.97297297, 0.94594595,\n",
       "        0.94594595, 0.97297297, 0.91891892, 0.97297297, 0.94594595]),\n",
       " 'split2_test_score': array([1.        , 0.97222222, 0.94444444, 0.97222222, 1.        ,\n",
       "        1.        , 1.        , 0.97222222, 1.        , 1.        ,\n",
       "        1.        , 1.        , 1.        , 1.        , 0.97222222,\n",
       "        0.97222222, 1.        , 1.        , 1.        , 1.        ,\n",
       "        1.        , 1.        , 1.        , 1.        , 1.        ,\n",
       "        1.        , 1.        , 1.        , 1.        , 1.        ]),\n",
       " 'mean_test_score': array([0.97321429, 0.94642857, 0.89285714, 0.96428571, 0.97321429,\n",
       "        0.95535714, 0.97321429, 0.94642857, 0.97321429, 0.97321429,\n",
       "        0.97321429, 0.95535714, 0.97321429, 0.97321429, 0.96428571,\n",
       "        0.96428571, 0.97321429, 0.97321429, 0.97321429, 0.97321429,\n",
       "        0.96428571, 0.97321429, 0.97321429, 0.97321429, 0.96428571,\n",
       "        0.96428571, 0.97321429, 0.95535714, 0.97321429, 0.96428571]),\n",
       " 'std_test_score': array([0.02096638, 0.0215797 , 0.03561928, 0.01138285, 0.02096638,\n",
       "        0.03308445, 0.02096638, 0.0215797 , 0.02096638, 0.02096638,\n",
       "        0.02096638, 0.03308445, 0.02096638, 0.02096638, 0.01138285,\n",
       "        0.01138285, 0.02096638, 0.02096638, 0.02096638, 0.02096638,\n",
       "        0.02460674, 0.02096638, 0.02096638, 0.02096638, 0.02460674,\n",
       "        0.02460674, 0.02096638, 0.03308445, 0.02096638, 0.02460674]),\n",
       " 'rank_test_score': array([ 1, 28, 30, 18,  1, 25,  1, 28,  1,  1,  1, 25,  1,  1, 18, 18,  1,\n",
       "         1,  1,  1, 18,  1,  1,  1, 18, 18,  1, 25,  1, 18]),\n",
       " 'split0_train_score': array([1.        , 1.        , 0.90410959, 0.98630137, 0.98630137,\n",
       "        0.98630137, 1.        , 1.        , 0.98630137, 0.98630137,\n",
       "        1.        , 0.98630137, 1.        , 0.98630137, 1.        ,\n",
       "        1.        , 0.98630137, 0.98630137, 0.98630137, 1.        ,\n",
       "        1.        , 1.        , 0.98630137, 1.        , 1.        ,\n",
       "        1.        , 1.        , 0.98630137, 1.        , 1.        ]),\n",
       " 'split1_train_score': array([0.98666667, 0.97333333, 0.92      , 0.96      , 0.98666667,\n",
       "        0.98666667, 0.98666667, 0.97333333, 0.98666667, 0.98666667,\n",
       "        0.98666667, 0.98666667, 0.98666667, 0.98666667, 0.98666667,\n",
       "        0.98666667, 0.98666667, 0.98666667, 0.98666667, 0.98666667,\n",
       "        1.        , 0.98666667, 0.98666667, 0.98666667, 1.        ,\n",
       "        1.        , 0.98666667, 0.98666667, 0.98666667, 1.        ]),\n",
       " 'split2_train_score': array([0.96052632, 0.97368421, 0.89473684, 0.93421053, 0.97368421,\n",
       "        0.97368421, 0.96052632, 0.97368421, 0.97368421, 0.96052632,\n",
       "        0.98684211, 0.97368421, 0.96052632, 0.96052632, 0.98684211,\n",
       "        0.98684211, 0.96052632, 0.97368421, 0.96052632, 0.98684211,\n",
       "        0.98684211, 0.98684211, 0.96052632, 0.98684211, 0.98684211,\n",
       "        0.98684211, 0.98684211, 0.97368421, 0.98684211, 0.98684211]),\n",
       " 'mean_train_score': array([0.98239766, 0.98233918, 0.90628214, 0.96017063, 0.98221742,\n",
       "        0.98221742, 0.98239766, 0.98233918, 0.98221742, 0.97783145,\n",
       "        0.99116959, 0.98221742, 0.98239766, 0.97783145, 0.99116959,\n",
       "        0.99116959, 0.97783145, 0.98221742, 0.97783145, 0.99116959,\n",
       "        0.99561404, 0.99116959, 0.97783145, 0.99116959, 0.99561404,\n",
       "        0.99561404, 0.99116959, 0.98221742, 0.99116959, 0.99561404]),\n",
       " 'std_train_score': array([0.01639535, 0.01248891, 0.01042742, 0.02126634, 0.00603573,\n",
       "        0.00603573, 0.01639535, 0.01248891, 0.00603573, 0.01223749,\n",
       "        0.00624445, 0.00603573, 0.01639535, 0.01223749, 0.00624445,\n",
       "        0.00624445, 0.01223749, 0.00603573, 0.01223749, 0.00624445,\n",
       "        0.00620269, 0.00624445, 0.01223749, 0.00624445, 0.00620269,\n",
       "        0.00620269, 0.00624445, 0.00603573, 0.00624445, 0.00620269])}"
      ]
     },
     "execution_count": 158,
     "metadata": {},
     "output_type": "execute_result"
    }
   ],
   "source": [
    "abc_svm.cv_results_"
   ]
  },
  {
   "cell_type": "markdown",
   "metadata": {},
   "source": [
    "# SVM as regressor"
   ]
  },
  {
   "cell_type": "code",
   "execution_count": 161,
   "metadata": {},
   "outputs": [
    {
     "data": {
      "text/plain": [
       "((506, 13), (506,))"
      ]
     },
     "execution_count": 161,
     "metadata": {},
     "output_type": "execute_result"
    }
   ],
   "source": [
    "boston = datasets.load_boston()\n",
    "x = boston.data\n",
    "y = boston.target\n",
    "x.shape, y.shape"
   ]
  },
  {
   "cell_type": "code",
   "execution_count": 162,
   "metadata": {},
   "outputs": [],
   "source": [
    "regressor = svm.SVR()\n",
    "x_train, x_test, y_train, y_test = train_test_split(x, y)"
   ]
  },
  {
   "cell_type": "code",
   "execution_count": 163,
   "metadata": {},
   "outputs": [
    {
     "data": {
      "text/plain": [
       "SVR(C=1.0, cache_size=200, coef0=0.0, degree=3, epsilon=0.1, gamma='auto',\n",
       "  kernel='rbf', max_iter=-1, shrinking=True, tol=0.001, verbose=False)"
      ]
     },
     "execution_count": 163,
     "metadata": {},
     "output_type": "execute_result"
    }
   ],
   "source": [
    "regressor.fit(x_train, y_train)"
   ]
  },
  {
   "cell_type": "code",
   "execution_count": 165,
   "metadata": {},
   "outputs": [
    {
     "data": {
      "text/plain": [
       "0.02836280992993545"
      ]
     },
     "execution_count": 165,
     "metadata": {},
     "output_type": "execute_result"
    }
   ],
   "source": [
    "regressor.score(x_test, y_test)"
   ]
  },
  {
   "cell_type": "code",
   "execution_count": 167,
   "metadata": {},
   "outputs": [
    {
     "data": {
      "text/plain": [
       "GridSearchCV(cv=None, error_score='raise',\n",
       "       estimator=SVR(C=1.0, cache_size=200, coef0=0.0, degree=3, epsilon=0.1, gamma='auto',\n",
       "  kernel='rbf', max_iter=-1, shrinking=True, tol=0.001, verbose=False),\n",
       "       fit_params=None, iid=True, n_jobs=1,\n",
       "       param_grid={'C': [100.0, 1000.0, 10000.0, 5000.0, 50000.0, 100000.0], 'gamma': [0.01, 0.001, 0.0001, 0.0005, 0.005]},\n",
       "       pre_dispatch='2*n_jobs', refit=True, return_train_score='warn',\n",
       "       scoring=None, verbose=0)"
      ]
     },
     "execution_count": 167,
     "metadata": {},
     "output_type": "execute_result"
    }
   ],
   "source": [
    "# for SVM\n",
    "clf_svm = svm.SVR()\n",
    "grid = {\"C\":[1e2, 1e3, 1e4, 5e3, 5e4, 1e5], 'gamma':[1e-2, 1e-3, 1e-4, 5e-4, 5e-3]}\n",
    "abc_svm = GridSearchCV(clf_svm, grid)\n",
    "abc_svm.fit(x_train, y_train)"
   ]
  },
  {
   "cell_type": "code",
   "execution_count": 168,
   "metadata": {},
   "outputs": [
    {
     "data": {
      "text/plain": [
       "SVR(C=1000.0, cache_size=200, coef0=0.0, degree=3, epsilon=0.1, gamma=0.0001,\n",
       "  kernel='rbf', max_iter=-1, shrinking=True, tol=0.001, verbose=False)"
      ]
     },
     "execution_count": 168,
     "metadata": {},
     "output_type": "execute_result"
    }
   ],
   "source": [
    "abc_svm.best_estimator_"
   ]
  },
  {
   "cell_type": "code",
   "execution_count": 173,
   "metadata": {},
   "outputs": [],
   "source": [
    "regressor = svm.SVR(C=10000, gamma=0.00001)"
   ]
  },
  {
   "cell_type": "code",
   "execution_count": 174,
   "metadata": {},
   "outputs": [
    {
     "data": {
      "text/plain": [
       "SVR(C=10000, cache_size=200, coef0=0.0, degree=3, epsilon=0.1, gamma=1e-05,\n",
       "  kernel='rbf', max_iter=-1, shrinking=True, tol=0.001, verbose=False)"
      ]
     },
     "execution_count": 174,
     "metadata": {},
     "output_type": "execute_result"
    }
   ],
   "source": [
    "regressor.fit(x_train, y_train)"
   ]
  },
  {
   "cell_type": "code",
   "execution_count": 175,
   "metadata": {},
   "outputs": [
    {
     "data": {
      "text/plain": [
       "0.7135150855068784"
      ]
     },
     "execution_count": 175,
     "metadata": {},
     "output_type": "execute_result"
    }
   ],
   "source": [
    "regressor.score(x_test, y_test)"
   ]
  }
 ],
 "metadata": {
  "kernelspec": {
   "display_name": "Python 3",
   "language": "python",
   "name": "python3"
  },
  "language_info": {
   "codemirror_mode": {
    "name": "ipython",
    "version": 3
   },
   "file_extension": ".py",
   "mimetype": "text/x-python",
   "name": "python",
   "nbconvert_exporter": "python",
   "pygments_lexer": "ipython3",
   "version": "3.6.5"
  }
 },
 "nbformat": 4,
 "nbformat_minor": 2
}
