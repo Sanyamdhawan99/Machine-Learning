{
 "cells": [
  {
   "cell_type": "code",
   "execution_count": 1,
   "metadata": {},
   "outputs": [],
   "source": [
    "import pandas as pd\n",
    "import numpy as np"
   ]
  },
  {
   "cell_type": "code",
   "execution_count": 2,
   "metadata": {},
   "outputs": [
    {
     "data": {
      "text/plain": [
       "(144, 1)"
      ]
     },
     "execution_count": 2,
     "metadata": {},
     "output_type": "execute_result"
    }
   ],
   "source": [
    "df = pd.read_csv(\"international-airline-passengers.csv\", usecols=[1])\n",
    "df.shape"
   ]
  },
  {
   "cell_type": "code",
   "execution_count": 3,
   "metadata": {},
   "outputs": [
    {
     "data": {
      "text/html": [
       "<div>\n",
       "<style scoped>\n",
       "    .dataframe tbody tr th:only-of-type {\n",
       "        vertical-align: middle;\n",
       "    }\n",
       "\n",
       "    .dataframe tbody tr th {\n",
       "        vertical-align: top;\n",
       "    }\n",
       "\n",
       "    .dataframe thead th {\n",
       "        text-align: right;\n",
       "    }\n",
       "</style>\n",
       "<table border=\"1\" class=\"dataframe\">\n",
       "  <thead>\n",
       "    <tr style=\"text-align: right;\">\n",
       "      <th></th>\n",
       "      <th>International airline passengers: monthly totals in thousands. Jan 49 ? Dec 60</th>\n",
       "    </tr>\n",
       "  </thead>\n",
       "  <tbody>\n",
       "    <tr>\n",
       "      <th>count</th>\n",
       "      <td>144.000000</td>\n",
       "    </tr>\n",
       "    <tr>\n",
       "      <th>mean</th>\n",
       "      <td>280.298611</td>\n",
       "    </tr>\n",
       "    <tr>\n",
       "      <th>std</th>\n",
       "      <td>119.966317</td>\n",
       "    </tr>\n",
       "    <tr>\n",
       "      <th>min</th>\n",
       "      <td>104.000000</td>\n",
       "    </tr>\n",
       "    <tr>\n",
       "      <th>25%</th>\n",
       "      <td>180.000000</td>\n",
       "    </tr>\n",
       "    <tr>\n",
       "      <th>50%</th>\n",
       "      <td>265.500000</td>\n",
       "    </tr>\n",
       "    <tr>\n",
       "      <th>75%</th>\n",
       "      <td>360.500000</td>\n",
       "    </tr>\n",
       "    <tr>\n",
       "      <th>max</th>\n",
       "      <td>622.000000</td>\n",
       "    </tr>\n",
       "  </tbody>\n",
       "</table>\n",
       "</div>"
      ],
      "text/plain": [
       "       International airline passengers: monthly totals in thousands. Jan 49 ? Dec 60\n",
       "count                                         144.000000                             \n",
       "mean                                          280.298611                             \n",
       "std                                           119.966317                             \n",
       "min                                           104.000000                             \n",
       "25%                                           180.000000                             \n",
       "50%                                           265.500000                             \n",
       "75%                                           360.500000                             \n",
       "max                                           622.000000                             "
      ]
     },
     "execution_count": 3,
     "metadata": {},
     "output_type": "execute_result"
    }
   ],
   "source": [
    "df.describe()"
   ]
  },
  {
   "cell_type": "code",
   "execution_count": 4,
   "metadata": {},
   "outputs": [],
   "source": [
    "values = df.values.astype('float32')"
   ]
  },
  {
   "cell_type": "code",
   "execution_count": 5,
   "metadata": {},
   "outputs": [
    {
     "data": {
      "text/plain": [
       "(96, 48)"
      ]
     },
     "execution_count": 5,
     "metadata": {},
     "output_type": "execute_result"
    }
   ],
   "source": [
    "train_size = int((values.shape[0] * .67)) # using 2/3 of data as training\n",
    "test_size = values.shape[0] - train_size\n",
    "train_size, test_size"
   ]
  },
  {
   "cell_type": "code",
   "execution_count": 6,
   "metadata": {},
   "outputs": [
    {
     "data": {
      "text/plain": [
       "((96, 1), (48, 1))"
      ]
     },
     "execution_count": 6,
     "metadata": {},
     "output_type": "execute_result"
    }
   ],
   "source": [
    "train = values[:train_size]\n",
    "test = values[train_size:]\n",
    "train.shape, test.shape"
   ]
  },
  {
   "cell_type": "code",
   "execution_count": 7,
   "metadata": {},
   "outputs": [],
   "source": [
    "# scaling the data\n",
    "from sklearn.preprocessing import MinMaxScaler\n",
    "scaler = MinMaxScaler()"
   ]
  },
  {
   "cell_type": "code",
   "execution_count": 8,
   "metadata": {},
   "outputs": [
    {
     "data": {
      "text/plain": [
       "(array([[0.02588999],\n",
       "        [0.04530746],\n",
       "        [0.09061491],\n",
       "        [0.08090615],\n",
       "        [0.05501619],\n",
       "        [0.10032365],\n",
       "        [0.14239484],\n",
       "        [0.14239484],\n",
       "        [0.10355988],\n",
       "        [0.04854369],\n",
       "        [0.        ],\n",
       "        [0.04530746],\n",
       "        [0.03559873],\n",
       "        [0.07119742],\n",
       "        [0.11974111],\n",
       "        [0.10032365],\n",
       "        [0.06796119],\n",
       "        [0.14563107],\n",
       "        [0.21359226],\n",
       "        [0.21359226],\n",
       "        [0.17475727],\n",
       "        [0.09385115],\n",
       "        [0.03236246],\n",
       "        [0.11650488],\n",
       "        [0.13268611],\n",
       "        [0.14886734],\n",
       "        [0.2394822 ],\n",
       "        [0.1909385 ],\n",
       "        [0.22006473],\n",
       "        [0.2394822 ],\n",
       "        [0.3074434 ],\n",
       "        [0.3074434 ],\n",
       "        [0.25889972],\n",
       "        [0.18770227],\n",
       "        [0.13592234],\n",
       "        [0.20064726],\n",
       "        [0.2168285 ],\n",
       "        [0.24595472],\n",
       "        [0.2880259 ],\n",
       "        [0.24919096],\n",
       "        [0.25566342],\n",
       "        [0.36893204],\n",
       "        [0.40776703],\n",
       "        [0.44660196],\n",
       "        [0.33980587],\n",
       "        [0.28155342],\n",
       "        [0.22006473],\n",
       "        [0.29126218],\n",
       "        [0.29773465],\n",
       "        [0.29773465],\n",
       "        [0.4271845 ],\n",
       "        [0.42394826],\n",
       "        [0.4045308 ],\n",
       "        [0.4498382 ],\n",
       "        [0.5177994 ],\n",
       "        [0.54368937],\n",
       "        [0.43042073],\n",
       "        [0.34627834],\n",
       "        [0.24595472],\n",
       "        [0.31391588],\n",
       "        [0.32362464],\n",
       "        [0.27184466],\n",
       "        [0.42394826],\n",
       "        [0.39805827],\n",
       "        [0.42071202],\n",
       "        [0.5177994 ],\n",
       "        [0.64077675],\n",
       "        [0.61165047],\n",
       "        [0.50161815],\n",
       "        [0.4045308 ],\n",
       "        [0.32038835],\n",
       "        [0.4045308 ],\n",
       "        [0.44660196],\n",
       "        [0.41747573],\n",
       "        [0.52750814],\n",
       "        [0.5339806 ],\n",
       "        [0.5372169 ],\n",
       "        [0.682848  ],\n",
       "        [0.841424  ],\n",
       "        [0.7864078 ],\n",
       "        [0.6731392 ],\n",
       "        [0.55016184],\n",
       "        [0.43042073],\n",
       "        [0.5631068 ],\n",
       "        [0.5825243 ],\n",
       "        [0.5598706 ],\n",
       "        [0.68932045],\n",
       "        [0.6763755 ],\n",
       "        [0.69255674],\n",
       "        [0.87378645],\n",
       "        [1.0000001 ],\n",
       "        [0.9741101 ],\n",
       "        [0.8122978 ],\n",
       "        [0.6537217 ],\n",
       "        [0.5404531 ],\n",
       "        [0.6537217 ]], dtype=float32), array([[0.682848  ],\n",
       "        [0.63754046],\n",
       "        [0.815534  ],\n",
       "        [0.7896441 ],\n",
       "        [0.8122978 ],\n",
       "        [1.0291263 ],\n",
       "        [1.1682849 ],\n",
       "        [1.1747574 ],\n",
       "        [0.97087383],\n",
       "        [0.7864078 ],\n",
       "        [0.6504855 ],\n",
       "        [0.7508091 ],\n",
       "        [0.7637541 ],\n",
       "        [0.69255674],\n",
       "        [0.8349515 ],\n",
       "        [0.7896441 ],\n",
       "        [0.8381878 ],\n",
       "        [1.0711975 ],\n",
       "        [1.2524272 ],\n",
       "        [1.2977347 ],\n",
       "        [0.97087383],\n",
       "        [0.82524276],\n",
       "        [0.66666675],\n",
       "        [0.75404537],\n",
       "        [0.82847905],\n",
       "        [0.7702266 ],\n",
       "        [0.9773463 ],\n",
       "        [0.94498384],\n",
       "        [1.0226538 ],\n",
       "        [1.1909386 ],\n",
       "        [1.4368933 ],\n",
       "        [1.472492  ],\n",
       "        [1.1618124 ],\n",
       "        [0.9805826 ],\n",
       "        [0.8349515 ],\n",
       "        [0.9741101 ],\n",
       "        [1.012945  ],\n",
       "        [0.9288026 ],\n",
       "        [1.0194175 ],\n",
       "        [1.1553398 ],\n",
       "        [1.1909386 ],\n",
       "        [1.3948221 ],\n",
       "        [1.6763754 ],\n",
       "        [1.6245955 ],\n",
       "        [1.3074435 ],\n",
       "        [1.1553398 ],\n",
       "        [0.92556643],\n",
       "        [1.0614887 ]], dtype=float32))"
      ]
     },
     "execution_count": 8,
     "metadata": {},
     "output_type": "execute_result"
    }
   ],
   "source": [
    "train = scaler.fit_transform(train)\n",
    "test = scaler.transform(test)\n",
    "train, test"
   ]
  },
  {
   "cell_type": "code",
   "execution_count": 9,
   "metadata": {},
   "outputs": [],
   "source": [
    "# k = look_back\n",
    "def create_dataset(data, k): \n",
    "    dataX, dataY = [], []\n",
    "    for i in range(data.shape[0] - k):\n",
    "        x = data[i:i+k, 0]\n",
    "        y = data[i+k, 0]\n",
    "        dataX.append(x)\n",
    "        dataY.append(y)\n",
    "    return np.array(dataX), np.array(dataY)"
   ]
  },
  {
   "cell_type": "code",
   "execution_count": 10,
   "metadata": {},
   "outputs": [
    {
     "data": {
      "text/plain": [
       "((84, 12), (84,), (36, 12), (36,))"
      ]
     },
     "execution_count": 10,
     "metadata": {},
     "output_type": "execute_result"
    }
   ],
   "source": [
    "look_back = 12\n",
    "train_x, train_y = create_dataset(train, look_back)\n",
    "test_x, test_y = create_dataset(test, look_back)\n",
    "# 96 - 12\n",
    "train_x.shape, train_y.shape, test_x.shape, test_y.shape"
   ]
  },
  {
   "cell_type": "code",
   "execution_count": 11,
   "metadata": {},
   "outputs": [
    {
     "data": {
      "text/plain": [
       "((84, 12, 1), (36, 12, 1))"
      ]
     },
     "execution_count": 11,
     "metadata": {},
     "output_type": "execute_result"
    }
   ],
   "source": [
    "# reshape the data since RNN requires 3D data \n",
    "train_x = np.reshape(train_x, ((train_x.shape[0], train_x.shape[1], 1)))\n",
    "test_x = np.reshape(test_x, ((test_x.shape[0], test_x.shape[1], 1)))\n",
    "train_x.shape, test_x.shape"
   ]
  },
  {
   "cell_type": "code",
   "execution_count": 12,
   "metadata": {},
   "outputs": [
    {
     "name": "stderr",
     "output_type": "stream",
     "text": [
      "C:\\Users\\hp\\Anaconda3\\lib\\site-packages\\h5py\\__init__.py:36: FutureWarning: Conversion of the second argument of issubdtype from `float` to `np.floating` is deprecated. In future, it will be treated as `np.float64 == np.dtype(float).type`.\n",
      "  from ._conv import register_converters as _register_converters\n",
      "Using TensorFlow backend.\n"
     ]
    }
   ],
   "source": [
    "# set up the RNN model\n",
    "from keras.models import Sequential\n",
    "from keras.layers import SimpleRNN, Dense"
   ]
  },
  {
   "cell_type": "code",
   "execution_count": 13,
   "metadata": {},
   "outputs": [],
   "source": [
    "# defining model\n",
    "model = Sequential()"
   ]
  },
  {
   "cell_type": "code",
   "execution_count": 14,
   "metadata": {},
   "outputs": [],
   "source": [
    "# add RNN layer\n",
    "model.add(SimpleRNN(4, input_shape = (look_back, 1))) # number of units and shape of input as parameters"
   ]
  },
  {
   "cell_type": "code",
   "execution_count": 15,
   "metadata": {},
   "outputs": [],
   "source": [
    "# add dense layer with 1 unit\n",
    "model.add(Dense(1))"
   ]
  },
  {
   "cell_type": "code",
   "execution_count": 16,
   "metadata": {},
   "outputs": [],
   "source": [
    "# compiling the model\n",
    "model.compile(loss='mean_squared_error', optimizer='adam')"
   ]
  },
  {
   "cell_type": "code",
   "execution_count": 17,
   "metadata": {},
   "outputs": [
    {
     "name": "stdout",
     "output_type": "stream",
     "text": [
      "_________________________________________________________________\n",
      "Layer (type)                 Output Shape              Param #   \n",
      "=================================================================\n",
      "simple_rnn_1 (SimpleRNN)     (None, 4)                 24        \n",
      "_________________________________________________________________\n",
      "dense_1 (Dense)              (None, 1)                 5         \n",
      "=================================================================\n",
      "Total params: 29\n",
      "Trainable params: 29\n",
      "Non-trainable params: 0\n",
      "_________________________________________________________________\n"
     ]
    }
   ],
   "source": [
    "# summarizing the model\n",
    "model.summary()"
   ]
  },
  {
   "cell_type": "code",
   "execution_count": 18,
   "metadata": {},
   "outputs": [
    {
     "name": "stdout",
     "output_type": "stream",
     "text": [
      "Epoch 1/100\n",
      "84/84 [==============================] - 1s 9ms/step - loss: 0.7641\n",
      "Epoch 2/100\n",
      "84/84 [==============================] - 0s 3ms/step - loss: 0.2717\n",
      "Epoch 3/100\n",
      "84/84 [==============================] - 0s 3ms/step - loss: 0.1317\n",
      "Epoch 4/100\n",
      "84/84 [==============================] - 0s 3ms/step - loss: 0.0886\n",
      "Epoch 5/100\n",
      "84/84 [==============================] - 0s 3ms/step - loss: 0.0603\n",
      "Epoch 6/100\n",
      "84/84 [==============================] - 0s 3ms/step - loss: 0.0405\n",
      "Epoch 7/100\n",
      "84/84 [==============================] - 0s 3ms/step - loss: 0.0301\n",
      "Epoch 8/100\n",
      "84/84 [==============================] - 0s 3ms/step - loss: 0.0251\n",
      "Epoch 9/100\n",
      "84/84 [==============================] - 0s 3ms/step - loss: 0.0221\n",
      "Epoch 10/100\n",
      "84/84 [==============================] - 0s 3ms/step - loss: 0.0198\n",
      "Epoch 11/100\n",
      "84/84 [==============================] - 0s 3ms/step - loss: 0.0177\n",
      "Epoch 12/100\n",
      "84/84 [==============================] - 0s 3ms/step - loss: 0.0157\n",
      "Epoch 13/100\n",
      "84/84 [==============================] - 0s 3ms/step - loss: 0.0142\n",
      "Epoch 14/100\n",
      "84/84 [==============================] - 0s 3ms/step - loss: 0.0129\n",
      "Epoch 15/100\n",
      "84/84 [==============================] - 0s 3ms/step - loss: 0.0115\n",
      "Epoch 16/100\n",
      "84/84 [==============================] - 0s 3ms/step - loss: 0.0111\n",
      "Epoch 17/100\n",
      "84/84 [==============================] - 0s 3ms/step - loss: 0.0098\n",
      "Epoch 18/100\n",
      "84/84 [==============================] - 0s 3ms/step - loss: 0.0088\n",
      "Epoch 19/100\n",
      "84/84 [==============================] - 0s 3ms/step - loss: 0.0083\n",
      "Epoch 20/100\n",
      "84/84 [==============================] - 0s 3ms/step - loss: 0.0078\n",
      "Epoch 21/100\n",
      "84/84 [==============================] - 0s 3ms/step - loss: 0.0073\n",
      "Epoch 22/100\n",
      "84/84 [==============================] - 0s 3ms/step - loss: 0.0072\n",
      "Epoch 23/100\n",
      "84/84 [==============================] - 0s 3ms/step - loss: 0.0070\n",
      "Epoch 24/100\n",
      "84/84 [==============================] - 0s 3ms/step - loss: 0.0070\n",
      "Epoch 25/100\n",
      "84/84 [==============================] - 0s 3ms/step - loss: 0.0061\n",
      "Epoch 26/100\n",
      "84/84 [==============================] - 0s 3ms/step - loss: 0.0059\n",
      "Epoch 27/100\n",
      "84/84 [==============================] - 0s 3ms/step - loss: 0.0057\n",
      "Epoch 28/100\n",
      "84/84 [==============================] - 0s 3ms/step - loss: 0.0053\n",
      "Epoch 29/100\n",
      "84/84 [==============================] - 0s 3ms/step - loss: 0.0053\n",
      "Epoch 30/100\n",
      "84/84 [==============================] - 0s 3ms/step - loss: 0.0055\n",
      "Epoch 31/100\n",
      "84/84 [==============================] - 0s 3ms/step - loss: 0.0048\n",
      "Epoch 32/100\n",
      "84/84 [==============================] - 0s 3ms/step - loss: 0.0049\n",
      "Epoch 33/100\n",
      "84/84 [==============================] - 0s 3ms/step - loss: 0.0048\n",
      "Epoch 34/100\n",
      "84/84 [==============================] - 0s 3ms/step - loss: 0.0044\n",
      "Epoch 35/100\n",
      "84/84 [==============================] - 0s 3ms/step - loss: 0.0045\n",
      "Epoch 36/100\n",
      "84/84 [==============================] - 0s 3ms/step - loss: 0.0043\n",
      "Epoch 37/100\n",
      "84/84 [==============================] - 0s 3ms/step - loss: 0.0043\n",
      "Epoch 38/100\n",
      "84/84 [==============================] - 0s 3ms/step - loss: 0.0042\n",
      "Epoch 39/100\n",
      "84/84 [==============================] - 0s 3ms/step - loss: 0.0041\n",
      "Epoch 40/100\n",
      "84/84 [==============================] - 0s 3ms/step - loss: 0.0041\n",
      "Epoch 41/100\n",
      "84/84 [==============================] - 0s 3ms/step - loss: 0.0038\n",
      "Epoch 42/100\n",
      "84/84 [==============================] - 0s 3ms/step - loss: 0.0038\n",
      "Epoch 43/100\n",
      "84/84 [==============================] - 0s 3ms/step - loss: 0.0036\n",
      "Epoch 44/100\n",
      "84/84 [==============================] - 0s 3ms/step - loss: 0.0036\n",
      "Epoch 45/100\n",
      "84/84 [==============================] - 0s 2ms/step - loss: 0.0038\n",
      "Epoch 46/100\n",
      "84/84 [==============================] - 0s 3ms/step - loss: 0.0036\n",
      "Epoch 47/100\n",
      "84/84 [==============================] - 0s 3ms/step - loss: 0.0034\n",
      "Epoch 48/100\n",
      "84/84 [==============================] - 0s 3ms/step - loss: 0.0033\n",
      "Epoch 49/100\n",
      "84/84 [==============================] - 0s 3ms/step - loss: 0.0033\n",
      "Epoch 50/100\n",
      "84/84 [==============================] - 0s 3ms/step - loss: 0.0034\n",
      "Epoch 51/100\n",
      "84/84 [==============================] - 0s 3ms/step - loss: 0.0034\n",
      "Epoch 52/100\n",
      "84/84 [==============================] - 0s 3ms/step - loss: 0.0034\n",
      "Epoch 53/100\n",
      "84/84 [==============================] - 0s 2ms/step - loss: 0.0034\n",
      "Epoch 54/100\n",
      "84/84 [==============================] - 0s 3ms/step - loss: 0.0031\n",
      "Epoch 55/100\n",
      "84/84 [==============================] - 0s 3ms/step - loss: 0.0033\n",
      "Epoch 56/100\n",
      "84/84 [==============================] - 0s 3ms/step - loss: 0.0032\n",
      "Epoch 57/100\n",
      "84/84 [==============================] - 0s 3ms/step - loss: 0.0033\n",
      "Epoch 58/100\n",
      "84/84 [==============================] - 0s 3ms/step - loss: 0.0032\n",
      "Epoch 59/100\n",
      "84/84 [==============================] - 0s 3ms/step - loss: 0.0033\n",
      "Epoch 60/100\n",
      "84/84 [==============================] - 0s 3ms/step - loss: 0.0031\n",
      "Epoch 61/100\n",
      "84/84 [==============================] - 0s 3ms/step - loss: 0.0030\n",
      "Epoch 62/100\n",
      "84/84 [==============================] - 0s 3ms/step - loss: 0.0030\n",
      "Epoch 63/100\n",
      "84/84 [==============================] - 0s 3ms/step - loss: 0.0030\n",
      "Epoch 64/100\n",
      "84/84 [==============================] - 0s 3ms/step - loss: 0.0032\n",
      "Epoch 65/100\n",
      "84/84 [==============================] - 0s 2ms/step - loss: 0.0030\n",
      "Epoch 66/100\n",
      "84/84 [==============================] - 0s 3ms/step - loss: 0.0030\n",
      "Epoch 67/100\n",
      "84/84 [==============================] - 0s 3ms/step - loss: 0.0035\n",
      "Epoch 68/100\n",
      "84/84 [==============================] - 0s 3ms/step - loss: 0.0031\n",
      "Epoch 69/100\n",
      "84/84 [==============================] - 0s 2ms/step - loss: 0.0030\n",
      "Epoch 70/100\n",
      "84/84 [==============================] - 0s 3ms/step - loss: 0.0028\n",
      "Epoch 71/100\n",
      "84/84 [==============================] - 0s 3ms/step - loss: 0.0030\n",
      "Epoch 72/100\n",
      "84/84 [==============================] - 0s 3ms/step - loss: 0.0027\n",
      "Epoch 73/100\n",
      "84/84 [==============================] - 0s 2ms/step - loss: 0.0028\n",
      "Epoch 74/100\n",
      "84/84 [==============================] - 0s 3ms/step - loss: 0.0032\n",
      "Epoch 75/100\n",
      "84/84 [==============================] - 0s 2ms/step - loss: 0.0029\n",
      "Epoch 76/100\n",
      "84/84 [==============================] - 0s 3ms/step - loss: 0.0029\n",
      "Epoch 77/100\n",
      "84/84 [==============================] - 0s 3ms/step - loss: 0.0029\n",
      "Epoch 78/100\n",
      "84/84 [==============================] - 0s 3ms/step - loss: 0.0028\n",
      "Epoch 79/100\n",
      "84/84 [==============================] - 0s 2ms/step - loss: 0.0028\n",
      "Epoch 80/100\n",
      "84/84 [==============================] - 0s 2ms/step - loss: 0.0031\n",
      "Epoch 81/100\n",
      "84/84 [==============================] - 0s 2ms/step - loss: 0.0027\n",
      "Epoch 82/100\n",
      "84/84 [==============================] - 0s 2ms/step - loss: 0.0031\n",
      "Epoch 83/100\n",
      "84/84 [==============================] - 0s 3ms/step - loss: 0.0030\n",
      "Epoch 84/100\n",
      "84/84 [==============================] - 0s 3ms/step - loss: 0.0027\n",
      "Epoch 85/100\n",
      "84/84 [==============================] - 0s 3ms/step - loss: 0.0029\n",
      "Epoch 86/100\n",
      "84/84 [==============================] - 0s 2ms/step - loss: 0.0030\n",
      "Epoch 87/100\n",
      "84/84 [==============================] - 0s 3ms/step - loss: 0.0027\n",
      "Epoch 88/100\n",
      "84/84 [==============================] - 0s 2ms/step - loss: 0.0027\n",
      "Epoch 89/100\n",
      "84/84 [==============================] - 0s 2ms/step - loss: 0.0027\n",
      "Epoch 90/100\n",
      "84/84 [==============================] - 0s 3ms/step - loss: 0.0028\n",
      "Epoch 91/100\n",
      "84/84 [==============================] - 0s 3ms/step - loss: 0.0026\n",
      "Epoch 92/100\n",
      "84/84 [==============================] - 0s 2ms/step - loss: 0.0027\n",
      "Epoch 93/100\n",
      "84/84 [==============================] - 0s 3ms/step - loss: 0.0027\n",
      "Epoch 94/100\n",
      "84/84 [==============================] - 0s 3ms/step - loss: 0.0028\n",
      "Epoch 95/100\n",
      "84/84 [==============================] - 0s 3ms/step - loss: 0.0027\n",
      "Epoch 96/100\n",
      "84/84 [==============================] - 0s 3ms/step - loss: 0.0027\n",
      "Epoch 97/100\n",
      "84/84 [==============================] - 0s 2ms/step - loss: 0.0027\n",
      "Epoch 98/100\n",
      "84/84 [==============================] - 0s 2ms/step - loss: 0.0030\n",
      "Epoch 99/100\n",
      "84/84 [==============================] - 0s 2ms/step - loss: 0.0027\n",
      "Epoch 100/100\n",
      "84/84 [==============================] - 0s 2ms/step - loss: 0.0028\n"
     ]
    },
    {
     "data": {
      "text/plain": [
       "<keras.callbacks.History at 0x227ed833518>"
      ]
     },
     "execution_count": 18,
     "metadata": {},
     "output_type": "execute_result"
    }
   ],
   "source": [
    "# fitting the model\n",
    "model.fit(train_x, train_y, epochs = 100, batch_size=1)"
   ]
  },
  {
   "cell_type": "code",
   "execution_count": 19,
   "metadata": {},
   "outputs": [
    {
     "data": {
      "text/plain": [
       "array([394.06427, 356.58835, 357.57208, 336.4838 , 416.37546, 429.17813,\n",
       "       437.8933 , 430.17267, 426.4379 , 378.18484, 334.11548, 338.65826,\n",
       "       395.76276, 397.59872, 362.8356 , 347.38293, 433.12274, 447.72955,\n",
       "       450.7052 , 438.83487, 446.77124, 398.9122 , 347.91345, 336.00955,\n",
       "       405.799  , 426.02914, 379.84387, 345.16348, 410.4239 , 468.22607,\n",
       "       463.20987, 448.03012, 455.55307, 419.56137, 382.9761 , 353.85944],\n",
       "      dtype=float32)"
      ]
     },
     "execution_count": 19,
     "metadata": {},
     "output_type": "execute_result"
    }
   ],
   "source": [
    "# analysing the output\n",
    "test_predict = model.predict(test_x)\n",
    "test_predict = scaler.inverse_transform(test_predict).ravel() # convert data to 1D\n",
    "test_predict"
   ]
  },
  {
   "cell_type": "code",
   "execution_count": 20,
   "metadata": {},
   "outputs": [
    {
     "data": {
      "text/plain": [
       "array([121.963585, 138.55186 , 139.4627  , 130.92148 , 135.22318 ,\n",
       "       146.9398  , 161.11586 , 171.53111 , 166.64468 , 152.71878 ,\n",
       "       133.84897 , 116.705795, 137.7913  , 160.16827 , 161.19469 ,\n",
       "       146.69649 , 151.57315 , 174.02957 , 197.79874 , 206.60199 ,\n",
       "       192.74655 , 169.09691 , 156.53888 , 150.46518 , 163.33559 ,\n",
       "       185.14256 , 203.54642 , 183.46034 , 186.64313 , 199.12317 ,\n",
       "       222.62993 , 235.04147 , 222.4404  , 206.41483 , 182.47755 ,\n",
       "       183.79364 , 200.31728 , 216.09814 , 216.20042 , 203.20636 ,\n",
       "       206.23244 , 248.05339 , 247.36375 , 268.3464  , 242.03835 ,\n",
       "       237.23453 , 218.2696  , 208.50194 , 214.4472  , 219.00175 ,\n",
       "       258.08932 , 243.71396 , 240.03696 , 274.98203 , 288.36823 ,\n",
       "       304.47458 , 266.11646 , 248.3663  , 230.14731 , 217.78923 ,\n",
       "       244.72984 , 221.99591 , 264.74286 , 239.89708 , 252.56499 ,\n",
       "       293.25122 , 348.07507 , 339.34464 , 295.7367  , 268.04602 ,\n",
       "       247.5282  , 244.05145 , 292.40958 , 262.34662 , 301.83746 ,\n",
       "       288.85553 , 327.3397  , 381.6038  , 409.76334 , 391.36423 ,\n",
       "       353.44406 , 326.28564 , 267.44302 , 294.79593 ], dtype=float32)"
      ]
     },
     "execution_count": 20,
     "metadata": {},
     "output_type": "execute_result"
    }
   ],
   "source": [
    "train_predict = model.predict(train_x)\n",
    "train_predict = scaler.inverse_transform(train_predict).ravel() # convert data to 1D\n",
    "train_predict"
   ]
  },
  {
   "cell_type": "code",
   "execution_count": 21,
   "metadata": {},
   "outputs": [
    {
     "data": {
      "text/plain": [
       "(array([340.0000141 , 318.00002115, 362.00000705, 348.00002158,\n",
       "        363.0000218 , 435.00001547, 490.99999417, 505.00001648,\n",
       "        404.00000029, 358.99999964, 310.00001367, 337.00000669,\n",
       "        360.00001439, 342.00000676, 405.99999295, 395.99999281,\n",
       "        420.00001525, 472.00000863, 548.00002446, 559.00000252,\n",
       "        463.00002324, 407.0000077 , 362.00000705, 405.00001504,\n",
       "        417.00000784, 390.99999273, 419.0000005 , 460.99999374,\n",
       "        472.00000863, 535.00001691, 621.99997396, 605.99999583,\n",
       "        508.00002389, 460.99999374, 390.00001482, 432.00000806]),\n",
       " array([115.00000165, 125.99999813, 140.99999835, 135.00000194,\n",
       "        125.0000018 , 148.99999662, 170.00000245, 170.00000245,\n",
       "        157.99999122, 133.00000007, 113.99999611, 140.00000201,\n",
       "        145.00000209, 150.00000216, 177.99999151, 162.99999129,\n",
       "        171.99999511, 177.99999151, 199.00000655, 199.00000655,\n",
       "        184.00000633, 161.99999496, 145.99999842, 165.9999987 ,\n",
       "        170.99999878, 180.00000259, 192.99999173, 180.99999892,\n",
       "        182.99999158, 217.99999209, 230.00000331, 241.99999611,\n",
       "        209.00000669, 190.99999906, 171.99999511, 194.00000648,\n",
       "        195.99999914, 195.99999914, 235.99999971, 235.00000338,\n",
       "        229.00000698, 242.99999245, 263.99999827, 272.00000576,\n",
       "        236.99999604, 210.99999935, 180.00000259, 200.99999921,\n",
       "        204.00000662, 187.99999165, 235.00000338, 226.9999959 ,\n",
       "        234.00000705, 263.99999827, 302.00000619, 292.99998396,\n",
       "        258.9999982 , 229.00000698, 202.99999187, 229.00000698,\n",
       "        241.99999611, 232.9999923 , 267.00000568, 268.99999835,\n",
       "        270.00001309, 315.00001374, 363.99999971, 347.00000683,\n",
       "        312.00000633, 273.99999842, 236.99999604, 277.99998374,\n",
       "        283.99999856, 277.00000583, 317.0000064 , 313.00002108,\n",
       "        318.00002115, 373.99999986, 413.00002252, 405.00001504,\n",
       "        355.00001432, 305.99999151, 270.99999101, 305.99999151]))"
      ]
     },
     "execution_count": 21,
     "metadata": {},
     "output_type": "execute_result"
    }
   ],
   "source": [
    "test_true = scaler.inverse_transform([test_y]).ravel()\n",
    "train_true = scaler.inverse_transform([train_y]).ravel()\n",
    "test_true, train_true"
   ]
  },
  {
   "cell_type": "code",
   "execution_count": 22,
   "metadata": {},
   "outputs": [],
   "source": [
    "# plotting the points\n",
    "from matplotlib import pyplot as plt"
   ]
  },
  {
   "cell_type": "code",
   "execution_count": 23,
   "metadata": {},
   "outputs": [
    {
     "data": {
      "image/png": "[encoded data removed]",
      "text/plain": [
       "<Figure size 432x288 with 1 Axes>"
      ]
     },
     "metadata": {},
     "output_type": "display_data"
    }
   ],
   "source": [
    "plt.plot(train_true, c='g')\n",
    "plt.plot(train_predict, c='b')\n",
    "plt.show()"
   ]
  },
  {
   "cell_type": "code",
   "execution_count": 24,
   "metadata": {},
   "outputs": [
    {
     "data": {
      "image/png": "[encoded data removed]",
      "text/plain": [
       "<Figure size 432x288 with 1 Axes>"
      ]
     },
     "metadata": {},
     "output_type": "display_data"
    }
   ],
   "source": [
    "plt.plot(test_true, c='g')\n",
    "plt.plot(test_predict, c='b')\n",
    "plt.show()"
   ]
  },
  {
   "cell_type": "code",
   "execution_count": 26,
   "metadata": {},
   "outputs": [
    {
     "data": {
      "image/png": "[encoded data removed]",
      "text/plain": [
       "<Figure size 432x288 with 1 Axes>"
      ]
     },
     "metadata": {},
     "output_type": "display_data"
    }
   ],
   "source": [
    "# combined data\n",
    "combined_pred = np.concatenate((train_predict, test_predict))\n",
    "combined_true = np.concatenate((train_true, test_true))\n",
    "plt.plot(combined_true, c='g')\n",
    "plt.plot(combined_pred, c='b') \n",
    "plt.show()"
   ]
  }
 ],
 "metadata": {
  "kernelspec": {
   "display_name": "Python 3",
   "language": "python",
   "name": "python3"
  },
  "language_info": {
   "codemirror_mode": {
    "name": "ipython",
    "version": 3
   },
   "file_extension": ".py",
   "mimetype": "text/x-python",
   "name": "python",
   "nbconvert_exporter": "python",
   "pygments_lexer": "ipython3",
   "version": "3.6.5"
  }
 },
 "nbformat": 4,
 "nbformat_minor": 2
}
