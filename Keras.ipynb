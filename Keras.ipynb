{
 "cells": [
  {
   "cell_type": "code",
   "execution_count": 1,
   "metadata": {},
   "outputs": [
    {
     "name": "stderr",
     "output_type": "stream",
     "text": [
      "C:\\Users\\hp\\Anaconda3\\lib\\site-packages\\h5py\\__init__.py:36: FutureWarning: Conversion of the second argument of issubdtype from `float` to `np.floating` is deprecated. In future, it will be treated as `np.float64 == np.dtype(float).type`.\n",
      "  from ._conv import register_converters as _register_converters\n",
      "Using TensorFlow backend.\n"
     ]
    }
   ],
   "source": [
    "from keras.models import Sequential"
   ]
  },
  {
   "cell_type": "code",
   "execution_count": 2,
   "metadata": {},
   "outputs": [],
   "source": [
    "# creating the model\n",
    "model = Sequential()"
   ]
  },
  {
   "cell_type": "code",
   "execution_count": 3,
   "metadata": {},
   "outputs": [],
   "source": [
    "# adding layers\n",
    "from keras.layers import Dense\n",
    "layer1 = Dense(units=32, activation='relu', input_dim = 30)\n",
    "model.add(layer1)\n",
    "model.add(Dense(units=16, activation='relu'))\n",
    "model.add(Dense(units=1, activation='sigmoid' ))"
   ]
  },
  {
   "cell_type": "code",
   "execution_count": 4,
   "metadata": {},
   "outputs": [],
   "source": [
    "model.compile(optimizer='adam', loss='binary_crossentropy', metrics=['accuracy'])"
   ]
  },
  {
   "cell_type": "code",
   "execution_count": 5,
   "metadata": {},
   "outputs": [],
   "source": [
    "from sklearn import datasets\n",
    "cancer = datasets.load_breast_cancer()"
   ]
  },
  {
   "cell_type": "code",
   "execution_count": 6,
   "metadata": {},
   "outputs": [
    {
     "data": {
      "text/plain": [
       "((455, 30), (114, 30))"
      ]
     },
     "execution_count": 6,
     "metadata": {},
     "output_type": "execute_result"
    }
   ],
   "source": [
    "from sklearn.model_selection import train_test_split\n",
    "x_train, x_test, y_train, y_test = train_test_split(cancer.data, cancer.target, test_size=0.2, random_state=0)\n",
    "x_train.shape, x_test.shape"
   ]
  },
  {
   "cell_type": "code",
   "execution_count": 7,
   "metadata": {},
   "outputs": [],
   "source": [
    "from sklearn.preprocessing import StandardScaler\n",
    "sc = StandardScaler()\n",
    "x_train = sc.fit_transform(x_train)\n",
    "x_test = sc.transform(x_test)"
   ]
  },
  {
   "cell_type": "code",
   "execution_count": 8,
   "metadata": {},
   "outputs": [
    {
     "name": "stdout",
     "output_type": "stream",
     "text": [
      "Train on 455 samples, validate on 114 samples\n",
      "Epoch 1/25\n",
      "455/455 [==============================] - 0s 672us/step - loss: 0.5528 - acc: 0.8220 - val_loss: 0.4696 - val_acc: 0.8772\n",
      "Epoch 2/25\n",
      "455/455 [==============================] - 0s 28us/step - loss: 0.4371 - acc: 0.8857 - val_loss: 0.3671 - val_acc: 0.9211\n",
      "Epoch 3/25\n",
      "455/455 [==============================] - 0s 61us/step - loss: 0.3499 - acc: 0.9231 - val_loss: 0.2933 - val_acc: 0.9474\n",
      "Epoch 4/25\n",
      "455/455 [==============================] - 0s 50us/step - loss: 0.2822 - acc: 0.9363 - val_loss: 0.2402 - val_acc: 0.9474\n",
      "Epoch 5/25\n",
      "455/455 [==============================] - 0s 53us/step - loss: 0.2309 - acc: 0.9560 - val_loss: 0.2045 - val_acc: 0.9386\n",
      "Epoch 6/25\n",
      "455/455 [==============================] - 0s 48us/step - loss: 0.1929 - acc: 0.9560 - val_loss: 0.1797 - val_acc: 0.9386\n",
      "Epoch 7/25\n",
      "455/455 [==============================] - 0s 50us/step - loss: 0.1675 - acc: 0.9582 - val_loss: 0.1603 - val_acc: 0.9474\n",
      "Epoch 8/25\n",
      "455/455 [==============================] - 0s 48us/step - loss: 0.1468 - acc: 0.9582 - val_loss: 0.1460 - val_acc: 0.9474\n",
      "Epoch 9/25\n",
      "455/455 [==============================] - 0s 53us/step - loss: 0.1324 - acc: 0.9604 - val_loss: 0.1344 - val_acc: 0.9474\n",
      "Epoch 10/25\n",
      "455/455 [==============================] - 0s 46us/step - loss: 0.1207 - acc: 0.9692 - val_loss: 0.1246 - val_acc: 0.9474\n",
      "Epoch 11/25\n",
      "455/455 [==============================] - 0s 50us/step - loss: 0.1109 - acc: 0.9736 - val_loss: 0.1158 - val_acc: 0.9649\n",
      "Epoch 12/25\n",
      "455/455 [==============================] - 0s 59us/step - loss: 0.1026 - acc: 0.9758 - val_loss: 0.1093 - val_acc: 0.9649\n",
      "Epoch 13/25\n",
      "455/455 [==============================] - 0s 53us/step - loss: 0.0961 - acc: 0.9758 - val_loss: 0.1061 - val_acc: 0.9649\n",
      "Epoch 14/25\n",
      "455/455 [==============================] - 0s 46us/step - loss: 0.0906 - acc: 0.9780 - val_loss: 0.1006 - val_acc: 0.9649\n",
      "Epoch 15/25\n",
      "455/455 [==============================] - 0s 57us/step - loss: 0.0851 - acc: 0.9780 - val_loss: 0.0958 - val_acc: 0.9649\n",
      "Epoch 16/25\n",
      "455/455 [==============================] - 0s 48us/step - loss: 0.0807 - acc: 0.9780 - val_loss: 0.0902 - val_acc: 0.9649\n",
      "Epoch 17/25\n",
      "455/455 [==============================] - 0s 37us/step - loss: 0.0767 - acc: 0.9802 - val_loss: 0.0857 - val_acc: 0.9649\n",
      "Epoch 18/25\n",
      "455/455 [==============================] - 0s 50us/step - loss: 0.0732 - acc: 0.9846 - val_loss: 0.0811 - val_acc: 0.9737\n",
      "Epoch 19/25\n",
      "455/455 [==============================] - 0s 42us/step - loss: 0.0702 - acc: 0.9846 - val_loss: 0.0782 - val_acc: 0.9737\n",
      "Epoch 20/25\n",
      "455/455 [==============================] - 0s 48us/step - loss: 0.0679 - acc: 0.9846 - val_loss: 0.0755 - val_acc: 0.9737\n",
      "Epoch 21/25\n",
      "455/455 [==============================] - 0s 61us/step - loss: 0.0654 - acc: 0.9846 - val_loss: 0.0734 - val_acc: 0.9737\n",
      "Epoch 22/25\n",
      "455/455 [==============================] - 0s 66us/step - loss: 0.0633 - acc: 0.9846 - val_loss: 0.0711 - val_acc: 0.9737\n",
      "Epoch 23/25\n",
      "455/455 [==============================] - 0s 37us/step - loss: 0.0612 - acc: 0.9846 - val_loss: 0.0688 - val_acc: 0.9737\n",
      "Epoch 24/25\n",
      "455/455 [==============================] - 0s 46us/step - loss: 0.0591 - acc: 0.9868 - val_loss: 0.0670 - val_acc: 0.9737\n",
      "Epoch 25/25\n",
      "455/455 [==============================] - 0s 42us/step - loss: 0.0574 - acc: 0.9868 - val_loss: 0.0650 - val_acc: 0.9737\n"
     ]
    },
    {
     "data": {
      "text/plain": [
       "<keras.callbacks.History at 0x1b8621157b8>"
      ]
     },
     "execution_count": 8,
     "metadata": {},
     "output_type": "execute_result"
    }
   ],
   "source": [
    "model.fit(x_train, y_train, epochs=25, batch_size=50, validation_data=(x_test, y_test))"
   ]
  },
  {
   "cell_type": "code",
   "execution_count": 9,
   "metadata": {},
   "outputs": [
    {
     "data": {
      "text/plain": [
       "array([[1.88827924e-02],\n",
       "       [9.55581903e-01],\n",
       "       [9.98230278e-01],\n",
       "       [9.94561017e-01],\n",
       "       [9.98561084e-01],\n",
       "       [9.95187402e-01],\n",
       "       [9.98316765e-01],\n",
       "       [9.98633802e-01],\n",
       "       [9.99932170e-01],\n",
       "       [9.99541759e-01],\n",
       "       [4.93138880e-01],\n",
       "       [9.35416639e-01],\n",
       "       [9.99825895e-01],\n",
       "       [5.40715992e-01],\n",
       "       [6.05883300e-01],\n",
       "       [2.43936479e-02],\n",
       "       [9.97966766e-01],\n",
       "       [1.82131655e-04],\n",
       "       [7.59509916e-04],\n",
       "       [5.62505647e-06],\n",
       "       [8.57271440e-03],\n",
       "       [1.72926802e-02],\n",
       "       [9.82152998e-01],\n",
       "       [9.98202682e-01],\n",
       "       [3.40271904e-03],\n",
       "       [9.98174071e-01],\n",
       "       [9.99865413e-01],\n",
       "       [1.25143416e-02],\n",
       "       [9.98386383e-01],\n",
       "       [1.39892218e-04],\n",
       "       [9.99521971e-01],\n",
       "       [1.09850604e-03],\n",
       "       [9.08517540e-01],\n",
       "       [1.84206627e-02],\n",
       "       [9.99972463e-01],\n",
       "       [1.40251322e-02],\n",
       "       [9.89376307e-01],\n",
       "       [6.84784027e-03],\n",
       "       [9.85714972e-01],\n",
       "       [5.91594074e-03],\n",
       "       [2.67429262e-01],\n",
       "       [9.99378800e-01],\n",
       "       [1.06481269e-01],\n",
       "       [9.99753773e-01],\n",
       "       [8.62813175e-01],\n",
       "       [1.96018937e-06],\n",
       "       [9.99981642e-01],\n",
       "       [9.76075292e-01],\n",
       "       [9.97233212e-01],\n",
       "       [7.64416996e-04],\n",
       "       [4.88686026e-04],\n",
       "       [9.81469750e-02],\n",
       "       [1.48763636e-03],\n",
       "       [9.98489022e-01],\n",
       "       [9.88261998e-01],\n",
       "       [9.99294877e-01],\n",
       "       [9.99307394e-01],\n",
       "       [9.96870816e-01],\n",
       "       [9.94951010e-01],\n",
       "       [2.17349248e-06],\n",
       "       [1.01819048e-02],\n",
       "       [7.19129527e-03],\n",
       "       [9.99581277e-01],\n",
       "       [9.89449263e-01],\n",
       "       [1.27866725e-03],\n",
       "       [9.49245334e-01],\n",
       "       [5.98672356e-09],\n",
       "       [1.75735520e-04],\n",
       "       [1.12457899e-04],\n",
       "       [9.98702407e-01],\n",
       "       [6.01152062e-01],\n",
       "       [5.50317811e-04],\n",
       "       [9.95767951e-01],\n",
       "       [1.96129784e-01],\n",
       "       [7.87436657e-05],\n",
       "       [9.83426452e-01],\n",
       "       [9.99857068e-01],\n",
       "       [9.12468314e-01],\n",
       "       [9.99639511e-01],\n",
       "       [9.99527693e-01],\n",
       "       [3.48185450e-02],\n",
       "       [4.80931419e-07],\n",
       "       [2.72489036e-04],\n",
       "       [9.99327183e-01],\n",
       "       [2.98493858e-02],\n",
       "       [9.97543871e-01],\n",
       "       [9.99725759e-01],\n",
       "       [9.99951601e-01],\n",
       "       [1.40210369e-03],\n",
       "       [1.57840418e-07],\n",
       "       [9.99795854e-01],\n",
       "       [3.55974883e-01],\n",
       "       [3.98448437e-01],\n",
       "       [3.13388708e-04],\n",
       "       [9.97141659e-01],\n",
       "       [9.96065438e-01],\n",
       "       [3.17550912e-05],\n",
       "       [9.42844927e-01],\n",
       "       [9.90895569e-01],\n",
       "       [9.94188190e-01],\n",
       "       [9.99992371e-01],\n",
       "       [9.97436106e-01],\n",
       "       [9.91496861e-01],\n",
       "       [8.41435850e-01],\n",
       "       [1.14071451e-03],\n",
       "       [9.97700155e-01],\n",
       "       [5.27601878e-05],\n",
       "       [8.46185744e-01],\n",
       "       [7.11976469e-01],\n",
       "       [1.13131344e-01],\n",
       "       [9.56813931e-01],\n",
       "       [1.69047038e-04],\n",
       "       [1.91653392e-03],\n",
       "       [7.79336989e-01]], dtype=float32)"
      ]
     },
     "execution_count": 9,
     "metadata": {},
     "output_type": "execute_result"
    }
   ],
   "source": [
    "predictions = model.predict(x_test)\n",
    "predictions"
   ]
  },
  {
   "cell_type": "code",
   "execution_count": 10,
   "metadata": {},
   "outputs": [
    {
     "name": "stdout",
     "output_type": "stream",
     "text": [
      "114/114 [==============================] - 0s 88us/step\n"
     ]
    },
    {
     "data": {
      "text/plain": [
       "[0.065023028013999, 0.9736842063435337]"
      ]
     },
     "execution_count": 10,
     "metadata": {},
     "output_type": "execute_result"
    }
   ],
   "source": [
    "# gives loss, accuracy\n",
    "score = model.evaluate(x_test, y_test)\n",
    "score"
   ]
  }
 ],
 "metadata": {
  "kernelspec": {
   "display_name": "Python 3",
   "language": "python",
   "name": "python3"
  },
  "language_info": {
   "codemirror_mode": {
    "name": "ipython",
    "version": 3
   },
   "file_extension": ".py",
   "mimetype": "text/x-python",
   "name": "python",
   "nbconvert_exporter": "python",
   "pygments_lexer": "ipython3",
   "version": "3.6.5"
  }
 },
 "nbformat": 4,
 "nbformat_minor": 2
}
